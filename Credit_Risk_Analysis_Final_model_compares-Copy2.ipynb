{
 "cells": [
  {
   "cell_type": "markdown",
   "id": "ed0ef754",
   "metadata": {},
   "source": [
    "# PROBLEM STATEMENT\n",
    "--->In this report we applied different ML & Deep Learning techniques for the credit risk analysis which are used for the evaluation for the credit risk datasets."
   ]
  },
  {
   "cell_type": "code",
   "execution_count": 1,
   "id": "eeca3203",
   "metadata": {},
   "outputs": [],
   "source": [
    "import pandas as pd\n",
    "import numpy as np\n",
    "import seaborn as sns\n",
    "import matplotlib.pyplot as plt\n",
    "\n",
    "from sklearn.preprocessing import LabelEncoder"
   ]
  },
  {
   "cell_type": "markdown",
   "id": "7371402b",
   "metadata": {},
   "source": [
    "# KNOWING THE DATASET"
   ]
  },
  {
   "cell_type": "code",
   "execution_count": 2,
   "id": "8ba60d15",
   "metadata": {},
   "outputs": [],
   "source": [
    "df=pd.read_csv(\"loan4.csv\")"
   ]
  },
  {
   "cell_type": "code",
   "execution_count": 3,
   "id": "e0ea2d2e",
   "metadata": {},
   "outputs": [
    {
     "data": {
      "text/html": [
       "<div>\n",
       "<style scoped>\n",
       "    .dataframe tbody tr th:only-of-type {\n",
       "        vertical-align: middle;\n",
       "    }\n",
       "\n",
       "    .dataframe tbody tr th {\n",
       "        vertical-align: top;\n",
       "    }\n",
       "\n",
       "    .dataframe thead th {\n",
       "        text-align: right;\n",
       "    }\n",
       "</style>\n",
       "<table border=\"1\" class=\"dataframe\">\n",
       "  <thead>\n",
       "    <tr style=\"text-align: right;\">\n",
       "      <th></th>\n",
       "      <th>loan_amnt</th>\n",
       "      <th>term</th>\n",
       "      <th>int_rate</th>\n",
       "      <th>installment</th>\n",
       "      <th>grade</th>\n",
       "      <th>emp_length</th>\n",
       "      <th>home_ownership</th>\n",
       "      <th>annual_inc</th>\n",
       "      <th>verification_status</th>\n",
       "      <th>loan_status</th>\n",
       "      <th>purpose</th>\n",
       "    </tr>\n",
       "  </thead>\n",
       "  <tbody>\n",
       "    <tr>\n",
       "      <th>0</th>\n",
       "      <td>5000</td>\n",
       "      <td>36 months</td>\n",
       "      <td>10.65</td>\n",
       "      <td>162.87</td>\n",
       "      <td>B</td>\n",
       "      <td>10+ years</td>\n",
       "      <td>RENT</td>\n",
       "      <td>24000.0</td>\n",
       "      <td>Verified</td>\n",
       "      <td>Fully Paid</td>\n",
       "      <td>credit_card</td>\n",
       "    </tr>\n",
       "    <tr>\n",
       "      <th>1</th>\n",
       "      <td>2500</td>\n",
       "      <td>60 months</td>\n",
       "      <td>15.27</td>\n",
       "      <td>59.83</td>\n",
       "      <td>C</td>\n",
       "      <td>&lt; 1 year</td>\n",
       "      <td>RENT</td>\n",
       "      <td>30000.0</td>\n",
       "      <td>Source Verified</td>\n",
       "      <td>Charged Off</td>\n",
       "      <td>car</td>\n",
       "    </tr>\n",
       "    <tr>\n",
       "      <th>2</th>\n",
       "      <td>2400</td>\n",
       "      <td>36 months</td>\n",
       "      <td>15.96</td>\n",
       "      <td>84.33</td>\n",
       "      <td>C</td>\n",
       "      <td>10+ years</td>\n",
       "      <td>RENT</td>\n",
       "      <td>12252.0</td>\n",
       "      <td>Not Verified</td>\n",
       "      <td>Fully Paid</td>\n",
       "      <td>small_business</td>\n",
       "    </tr>\n",
       "    <tr>\n",
       "      <th>3</th>\n",
       "      <td>10000</td>\n",
       "      <td>36 months</td>\n",
       "      <td>13.49</td>\n",
       "      <td>339.31</td>\n",
       "      <td>C</td>\n",
       "      <td>10+ years</td>\n",
       "      <td>RENT</td>\n",
       "      <td>49200.0</td>\n",
       "      <td>Source Verified</td>\n",
       "      <td>Fully Paid</td>\n",
       "      <td>other</td>\n",
       "    </tr>\n",
       "    <tr>\n",
       "      <th>4</th>\n",
       "      <td>3000</td>\n",
       "      <td>60 months</td>\n",
       "      <td>12.69</td>\n",
       "      <td>67.79</td>\n",
       "      <td>B</td>\n",
       "      <td>1 year</td>\n",
       "      <td>RENT</td>\n",
       "      <td>80000.0</td>\n",
       "      <td>Source Verified</td>\n",
       "      <td>Current</td>\n",
       "      <td>other</td>\n",
       "    </tr>\n",
       "  </tbody>\n",
       "</table>\n",
       "</div>"
      ],
      "text/plain": [
       "   loan_amnt        term  int_rate  installment grade emp_length  \\\n",
       "0       5000   36 months     10.65       162.87     B  10+ years   \n",
       "1       2500   60 months     15.27        59.83     C   < 1 year   \n",
       "2       2400   36 months     15.96        84.33     C  10+ years   \n",
       "3      10000   36 months     13.49       339.31     C  10+ years   \n",
       "4       3000   60 months     12.69        67.79     B     1 year   \n",
       "\n",
       "  home_ownership  annual_inc verification_status  loan_status         purpose  \n",
       "0           RENT     24000.0            Verified   Fully Paid     credit_card  \n",
       "1           RENT     30000.0     Source Verified  Charged Off             car  \n",
       "2           RENT     12252.0        Not Verified   Fully Paid  small_business  \n",
       "3           RENT     49200.0     Source Verified   Fully Paid           other  \n",
       "4           RENT     80000.0     Source Verified      Current           other  "
      ]
     },
     "execution_count": 3,
     "metadata": {},
     "output_type": "execute_result"
    }
   ],
   "source": [
    "df.head()"
   ]
  },
  {
   "cell_type": "code",
   "execution_count": 4,
   "id": "1f0a42f0",
   "metadata": {},
   "outputs": [
    {
     "data": {
      "image/png": "[encoded data removed]",
      "text/plain": [
       "<Figure size 720x576 with 1 Axes>"
      ]
     },
     "metadata": {
      "needs_background": "light"
     },
     "output_type": "display_data"
    }
   ],
   "source": [
    "plt.figure(figsize=(10,8))\n",
    "\n",
    "ax = df['loan_status'].value_counts().sort_values().plot.barh(edgecolor='black', grid=False, fontsize=12)\n",
    "\n",
    "for p in ax.patches:\n",
    "    width = p.get_width()\n",
    "    ax.text(width+5000, p.get_y(), '{:.2%}'.format(width/len(df)), ha='left', va='bottom', fontsize=14)\n",
    "\n",
    "sns.despine() "
   ]
  },
  {
   "cell_type": "code",
   "execution_count": 5,
   "id": "a062dd9a",
   "metadata": {},
   "outputs": [
    {
     "name": "stdout",
     "output_type": "stream",
     "text": [
      "<class 'pandas.core.frame.DataFrame'>\n",
      "RangeIndex: 99999 entries, 0 to 99998\n",
      "Data columns (total 11 columns):\n",
      " #   Column               Non-Null Count  Dtype  \n",
      "---  ------               --------------  -----  \n",
      " 0   loan_amnt            99999 non-null  int64  \n",
      " 1   term                 99999 non-null  object \n",
      " 2   int_rate             99999 non-null  float64\n",
      " 3   installment          99999 non-null  float64\n",
      " 4   grade                99999 non-null  object \n",
      " 5   emp_length           96253 non-null  object \n",
      " 6   home_ownership       99999 non-null  object \n",
      " 7   annual_inc           99995 non-null  float64\n",
      " 8   verification_status  99999 non-null  object \n",
      " 9   loan_status          99999 non-null  object \n",
      " 10  purpose              99999 non-null  object \n",
      "dtypes: float64(3), int64(1), object(7)\n",
      "memory usage: 8.4+ MB\n"
     ]
    }
   ],
   "source": [
    "df.info()"
   ]
  },
  {
   "cell_type": "code",
   "execution_count": 6,
   "id": "66bd62a8",
   "metadata": {},
   "outputs": [
    {
     "data": {
      "text/plain": [
       "loan_amnt                 0\n",
       "term                      0\n",
       "int_rate                  0\n",
       "installment               0\n",
       "grade                     0\n",
       "emp_length             3746\n",
       "home_ownership            0\n",
       "annual_inc                4\n",
       "verification_status       0\n",
       "loan_status               0\n",
       "purpose                   0\n",
       "dtype: int64"
      ]
     },
     "execution_count": 6,
     "metadata": {},
     "output_type": "execute_result"
    }
   ],
   "source": [
    "df.isnull().sum()"
   ]
  },
  {
   "cell_type": "code",
   "execution_count": 7,
   "id": "56785f45",
   "metadata": {},
   "outputs": [
    {
     "data": {
      "text/plain": [
       "loan_amnt                 0\n",
       "term                      0\n",
       "int_rate                  0\n",
       "installment               0\n",
       "grade                     0\n",
       "emp_length             3746\n",
       "home_ownership            0\n",
       "annual_inc                0\n",
       "verification_status       0\n",
       "loan_status               0\n",
       "purpose                   0\n",
       "dtype: int64"
      ]
     },
     "execution_count": 7,
     "metadata": {},
     "output_type": "execute_result"
    }
   ],
   "source": [
    "df.annual_inc = df.annual_inc.fillna(0)\n",
    "df.isnull().sum()"
   ]
  },
  {
   "cell_type": "code",
   "execution_count": 8,
   "id": "0ecf52a3",
   "metadata": {},
   "outputs": [],
   "source": [
    "# binary classification\n",
    "label_categories = [\n",
    "    (0, ['Fully Paid', 'Does not meet the credit policy. Status:Fully Paid', 'Current']),\n",
    "    (1, ['Late (31-120 days)', 'Late (16-30 days)', 'In Grace Period', \n",
    "         'Charged Off', 'Default', 'Does not meet the credit policy. Status:Charged Off'])\n",
    "]"
   ]
  },
  {
   "cell_type": "code",
   "execution_count": 9,
   "id": "e29cacdd",
   "metadata": {},
   "outputs": [],
   "source": [
    "def classify_label(text):\n",
    "    for category, matches in label_categories:\n",
    "        if any(match in text for match in matches):\n",
    "            return category\n",
    "    return None\n",
    "\n",
    "df.loc[:, 'label'] = df['loan_status'].apply(classify_label)\n",
    "df = df.drop('loan_status', axis=1)"
   ]
  },
  {
   "cell_type": "code",
   "execution_count": 10,
   "id": "908da34f",
   "metadata": {},
   "outputs": [
    {
     "data": {
      "text/plain": [
       "0    86614\n",
       "1    13385\n",
       "Name: label, dtype: int64"
      ]
     },
     "execution_count": 10,
     "metadata": {},
     "output_type": "execute_result"
    }
   ],
   "source": [
    "df['label'].value_counts()"
   ]
  },
  {
   "cell_type": "code",
   "execution_count": 11,
   "id": "1f01fc6b",
   "metadata": {},
   "outputs": [],
   "source": [
    "def SC_LabelEncoder1(text):\n",
    "    if text == \"E\":\n",
    "        return 1\n",
    "    elif text == \"D\":\n",
    "        return 2\n",
    "    elif text == \"C\":\n",
    "        return 3\n",
    "    elif text == \"B\":\n",
    "        return 4\n",
    "    elif text == \"A\":\n",
    "        return 5\n",
    "    else:\n",
    "        return 0"
   ]
  },
  {
   "cell_type": "code",
   "execution_count": 12,
   "id": "cf463c9b",
   "metadata": {},
   "outputs": [],
   "source": [
    "def SC_LabelEncoder2(text):\n",
    "    if text == \"< 1 year\":\n",
    "        return 1\n",
    "    elif text == \"1 year\":\n",
    "        return 2\n",
    "    elif text == \"2 years\":\n",
    "        return 3\n",
    "    elif text == \"3 years\":\n",
    "        return 4\n",
    "    elif text == \"4 years\":\n",
    "        return 5\n",
    "    elif text == \"5 years\":\n",
    "        return 6\n",
    "    elif text == \"6 years\":\n",
    "        return 7\n",
    "    elif text == \"7 years\":\n",
    "        return 8\n",
    "    elif text == \"8 years\":\n",
    "            return 9\n",
    "    elif text == \"9 years\":\n",
    "        return 10\n",
    "    elif text == \"10 years\":\n",
    "        return 11\n",
    "    elif text == \"10+ years\":\n",
    "        return 12\n",
    "    else:\n",
    "        return 0"
   ]
  },
  {
   "cell_type": "code",
   "execution_count": 13,
   "id": "bb48bdd5",
   "metadata": {},
   "outputs": [],
   "source": [
    "def SC_LabelEncoder3(text):\n",
    "    if text == \"RENT\":\n",
    "        return 1\n",
    "    elif text == \"MORTGAGE\":\n",
    "        return 2\n",
    "    elif text == \"OWN\":\n",
    "        return 3\n",
    "    else:\n",
    "        return 0"
   ]
  },
  {
   "cell_type": "code",
   "execution_count": 14,
   "id": "c8c18bbe",
   "metadata": {},
   "outputs": [],
   "source": [
    "    \n",
    "df[\"grade\"] = df[\"grade\"].apply(SC_LabelEncoder1)\n",
    "df[\"emp_length\"] = df[\"emp_length\"].apply(SC_LabelEncoder2)\n",
    "df[\"home_ownership\"] = df[\"home_ownership\"].apply(SC_LabelEncoder3)"
   ]
  },
  {
   "cell_type": "code",
   "execution_count": 15,
   "id": "c3681191",
   "metadata": {},
   "outputs": [
    {
     "data": {
      "text/html": [
       "<div>\n",
       "<style scoped>\n",
       "    .dataframe tbody tr th:only-of-type {\n",
       "        vertical-align: middle;\n",
       "    }\n",
       "\n",
       "    .dataframe tbody tr th {\n",
       "        vertical-align: top;\n",
       "    }\n",
       "\n",
       "    .dataframe thead th {\n",
       "        text-align: right;\n",
       "    }\n",
       "</style>\n",
       "<table border=\"1\" class=\"dataframe\">\n",
       "  <thead>\n",
       "    <tr style=\"text-align: right;\">\n",
       "      <th></th>\n",
       "      <th>loan_amnt</th>\n",
       "      <th>term</th>\n",
       "      <th>int_rate</th>\n",
       "      <th>installment</th>\n",
       "      <th>grade</th>\n",
       "      <th>emp_length</th>\n",
       "      <th>home_ownership</th>\n",
       "      <th>annual_inc</th>\n",
       "      <th>verification_status</th>\n",
       "      <th>purpose</th>\n",
       "      <th>label</th>\n",
       "    </tr>\n",
       "  </thead>\n",
       "  <tbody>\n",
       "    <tr>\n",
       "      <th>0</th>\n",
       "      <td>5000</td>\n",
       "      <td>0</td>\n",
       "      <td>10.65</td>\n",
       "      <td>162.87</td>\n",
       "      <td>4</td>\n",
       "      <td>12</td>\n",
       "      <td>1</td>\n",
       "      <td>24000.0</td>\n",
       "      <td>2</td>\n",
       "      <td>1</td>\n",
       "      <td>0</td>\n",
       "    </tr>\n",
       "    <tr>\n",
       "      <th>1</th>\n",
       "      <td>2500</td>\n",
       "      <td>1</td>\n",
       "      <td>15.27</td>\n",
       "      <td>59.83</td>\n",
       "      <td>3</td>\n",
       "      <td>1</td>\n",
       "      <td>1</td>\n",
       "      <td>30000.0</td>\n",
       "      <td>1</td>\n",
       "      <td>0</td>\n",
       "      <td>1</td>\n",
       "    </tr>\n",
       "    <tr>\n",
       "      <th>2</th>\n",
       "      <td>2400</td>\n",
       "      <td>0</td>\n",
       "      <td>15.96</td>\n",
       "      <td>84.33</td>\n",
       "      <td>3</td>\n",
       "      <td>12</td>\n",
       "      <td>1</td>\n",
       "      <td>12252.0</td>\n",
       "      <td>0</td>\n",
       "      <td>11</td>\n",
       "      <td>0</td>\n",
       "    </tr>\n",
       "    <tr>\n",
       "      <th>3</th>\n",
       "      <td>10000</td>\n",
       "      <td>0</td>\n",
       "      <td>13.49</td>\n",
       "      <td>339.31</td>\n",
       "      <td>3</td>\n",
       "      <td>12</td>\n",
       "      <td>1</td>\n",
       "      <td>49200.0</td>\n",
       "      <td>1</td>\n",
       "      <td>9</td>\n",
       "      <td>0</td>\n",
       "    </tr>\n",
       "    <tr>\n",
       "      <th>4</th>\n",
       "      <td>3000</td>\n",
       "      <td>1</td>\n",
       "      <td>12.69</td>\n",
       "      <td>67.79</td>\n",
       "      <td>4</td>\n",
       "      <td>2</td>\n",
       "      <td>1</td>\n",
       "      <td>80000.0</td>\n",
       "      <td>1</td>\n",
       "      <td>9</td>\n",
       "      <td>0</td>\n",
       "    </tr>\n",
       "  </tbody>\n",
       "</table>\n",
       "</div>"
      ],
      "text/plain": [
       "   loan_amnt  term  int_rate  installment  grade  emp_length  home_ownership  \\\n",
       "0       5000     0     10.65       162.87      4          12               1   \n",
       "1       2500     1     15.27        59.83      3           1               1   \n",
       "2       2400     0     15.96        84.33      3          12               1   \n",
       "3      10000     0     13.49       339.31      3          12               1   \n",
       "4       3000     1     12.69        67.79      4           2               1   \n",
       "\n",
       "   annual_inc  verification_status  purpose  label  \n",
       "0     24000.0                    2        1      0  \n",
       "1     30000.0                    1        0      1  \n",
       "2     12252.0                    0       11      0  \n",
       "3     49200.0                    1        9      0  \n",
       "4     80000.0                    1        9      0  "
      ]
     },
     "execution_count": 15,
     "metadata": {},
     "output_type": "execute_result"
    }
   ],
   "source": [
    "for col in [\"verification_status\", \"purpose\",\"term\"]:\n",
    "    le = LabelEncoder()\n",
    "    le.fit(df[col])\n",
    "    df[col] = le.transform(df[col])\n",
    "df.head()"
   ]
  },
  {
   "cell_type": "code",
   "execution_count": 16,
   "id": "ab5cae05",
   "metadata": {},
   "outputs": [
    {
     "data": {
      "text/html": [
       "<div>\n",
       "<style scoped>\n",
       "    .dataframe tbody tr th:only-of-type {\n",
       "        vertical-align: middle;\n",
       "    }\n",
       "\n",
       "    .dataframe tbody tr th {\n",
       "        vertical-align: top;\n",
       "    }\n",
       "\n",
       "    .dataframe thead th {\n",
       "        text-align: right;\n",
       "    }\n",
       "</style>\n",
       "<table border=\"1\" class=\"dataframe\">\n",
       "  <thead>\n",
       "    <tr style=\"text-align: right;\">\n",
       "      <th></th>\n",
       "      <th>loan_amnt</th>\n",
       "      <th>term</th>\n",
       "      <th>int_rate</th>\n",
       "      <th>installment</th>\n",
       "      <th>grade</th>\n",
       "      <th>emp_length</th>\n",
       "      <th>home_ownership</th>\n",
       "      <th>annual_inc</th>\n",
       "      <th>verification_status</th>\n",
       "      <th>purpose</th>\n",
       "      <th>label</th>\n",
       "    </tr>\n",
       "  </thead>\n",
       "  <tbody>\n",
       "    <tr>\n",
       "      <th>0</th>\n",
       "      <td>5000</td>\n",
       "      <td>0</td>\n",
       "      <td>10.65</td>\n",
       "      <td>162.87</td>\n",
       "      <td>4</td>\n",
       "      <td>12</td>\n",
       "      <td>1</td>\n",
       "      <td>24000.0</td>\n",
       "      <td>2</td>\n",
       "      <td>1</td>\n",
       "      <td>0</td>\n",
       "    </tr>\n",
       "    <tr>\n",
       "      <th>1</th>\n",
       "      <td>2500</td>\n",
       "      <td>1</td>\n",
       "      <td>15.27</td>\n",
       "      <td>59.83</td>\n",
       "      <td>3</td>\n",
       "      <td>1</td>\n",
       "      <td>1</td>\n",
       "      <td>30000.0</td>\n",
       "      <td>1</td>\n",
       "      <td>0</td>\n",
       "      <td>1</td>\n",
       "    </tr>\n",
       "    <tr>\n",
       "      <th>2</th>\n",
       "      <td>2400</td>\n",
       "      <td>0</td>\n",
       "      <td>15.96</td>\n",
       "      <td>84.33</td>\n",
       "      <td>3</td>\n",
       "      <td>12</td>\n",
       "      <td>1</td>\n",
       "      <td>12252.0</td>\n",
       "      <td>0</td>\n",
       "      <td>11</td>\n",
       "      <td>0</td>\n",
       "    </tr>\n",
       "    <tr>\n",
       "      <th>3</th>\n",
       "      <td>10000</td>\n",
       "      <td>0</td>\n",
       "      <td>13.49</td>\n",
       "      <td>339.31</td>\n",
       "      <td>3</td>\n",
       "      <td>12</td>\n",
       "      <td>1</td>\n",
       "      <td>49200.0</td>\n",
       "      <td>1</td>\n",
       "      <td>9</td>\n",
       "      <td>0</td>\n",
       "    </tr>\n",
       "    <tr>\n",
       "      <th>4</th>\n",
       "      <td>3000</td>\n",
       "      <td>1</td>\n",
       "      <td>12.69</td>\n",
       "      <td>67.79</td>\n",
       "      <td>4</td>\n",
       "      <td>2</td>\n",
       "      <td>1</td>\n",
       "      <td>80000.0</td>\n",
       "      <td>1</td>\n",
       "      <td>9</td>\n",
       "      <td>0</td>\n",
       "    </tr>\n",
       "    <tr>\n",
       "      <th>5</th>\n",
       "      <td>5000</td>\n",
       "      <td>0</td>\n",
       "      <td>7.90</td>\n",
       "      <td>156.46</td>\n",
       "      <td>5</td>\n",
       "      <td>4</td>\n",
       "      <td>1</td>\n",
       "      <td>36000.0</td>\n",
       "      <td>1</td>\n",
       "      <td>13</td>\n",
       "      <td>0</td>\n",
       "    </tr>\n",
       "    <tr>\n",
       "      <th>6</th>\n",
       "      <td>7000</td>\n",
       "      <td>1</td>\n",
       "      <td>15.96</td>\n",
       "      <td>170.08</td>\n",
       "      <td>3</td>\n",
       "      <td>9</td>\n",
       "      <td>1</td>\n",
       "      <td>47004.0</td>\n",
       "      <td>0</td>\n",
       "      <td>2</td>\n",
       "      <td>0</td>\n",
       "    </tr>\n",
       "    <tr>\n",
       "      <th>7</th>\n",
       "      <td>3000</td>\n",
       "      <td>0</td>\n",
       "      <td>18.64</td>\n",
       "      <td>109.43</td>\n",
       "      <td>1</td>\n",
       "      <td>10</td>\n",
       "      <td>1</td>\n",
       "      <td>48000.0</td>\n",
       "      <td>1</td>\n",
       "      <td>0</td>\n",
       "      <td>0</td>\n",
       "    </tr>\n",
       "    <tr>\n",
       "      <th>8</th>\n",
       "      <td>5600</td>\n",
       "      <td>1</td>\n",
       "      <td>21.28</td>\n",
       "      <td>152.39</td>\n",
       "      <td>0</td>\n",
       "      <td>5</td>\n",
       "      <td>3</td>\n",
       "      <td>40000.0</td>\n",
       "      <td>1</td>\n",
       "      <td>11</td>\n",
       "      <td>1</td>\n",
       "    </tr>\n",
       "    <tr>\n",
       "      <th>9</th>\n",
       "      <td>5375</td>\n",
       "      <td>1</td>\n",
       "      <td>12.69</td>\n",
       "      <td>121.45</td>\n",
       "      <td>4</td>\n",
       "      <td>1</td>\n",
       "      <td>1</td>\n",
       "      <td>15000.0</td>\n",
       "      <td>2</td>\n",
       "      <td>9</td>\n",
       "      <td>1</td>\n",
       "    </tr>\n",
       "  </tbody>\n",
       "</table>\n",
       "</div>"
      ],
      "text/plain": [
       "   loan_amnt  term  int_rate  installment  grade  emp_length  home_ownership  \\\n",
       "0       5000     0     10.65       162.87      4          12               1   \n",
       "1       2500     1     15.27        59.83      3           1               1   \n",
       "2       2400     0     15.96        84.33      3          12               1   \n",
       "3      10000     0     13.49       339.31      3          12               1   \n",
       "4       3000     1     12.69        67.79      4           2               1   \n",
       "5       5000     0      7.90       156.46      5           4               1   \n",
       "6       7000     1     15.96       170.08      3           9               1   \n",
       "7       3000     0     18.64       109.43      1          10               1   \n",
       "8       5600     1     21.28       152.39      0           5               3   \n",
       "9       5375     1     12.69       121.45      4           1               1   \n",
       "\n",
       "   annual_inc  verification_status  purpose  label  \n",
       "0     24000.0                    2        1      0  \n",
       "1     30000.0                    1        0      1  \n",
       "2     12252.0                    0       11      0  \n",
       "3     49200.0                    1        9      0  \n",
       "4     80000.0                    1        9      0  \n",
       "5     36000.0                    1       13      0  \n",
       "6     47004.0                    0        2      0  \n",
       "7     48000.0                    1        0      0  \n",
       "8     40000.0                    1       11      1  \n",
       "9     15000.0                    2        9      1  "
      ]
     },
     "execution_count": 16,
     "metadata": {},
     "output_type": "execute_result"
    }
   ],
   "source": [
    "df.head(10)"
   ]
  },
  {
   "cell_type": "code",
   "execution_count": 17,
   "id": "5e45432b",
   "metadata": {},
   "outputs": [
    {
     "name": "stdout",
     "output_type": "stream",
     "text": [
      "<class 'pandas.core.frame.DataFrame'>\n",
      "RangeIndex: 99999 entries, 0 to 99998\n",
      "Data columns (total 11 columns):\n",
      " #   Column               Non-Null Count  Dtype  \n",
      "---  ------               --------------  -----  \n",
      " 0   loan_amnt            99999 non-null  int64  \n",
      " 1   term                 99999 non-null  int32  \n",
      " 2   int_rate             99999 non-null  float64\n",
      " 3   installment          99999 non-null  float64\n",
      " 4   grade                99999 non-null  int64  \n",
      " 5   emp_length           99999 non-null  int64  \n",
      " 6   home_ownership       99999 non-null  int64  \n",
      " 7   annual_inc           99999 non-null  float64\n",
      " 8   verification_status  99999 non-null  int32  \n",
      " 9   purpose              99999 non-null  int32  \n",
      " 10  label                99999 non-null  int64  \n",
      "dtypes: float64(3), int32(3), int64(5)\n",
      "memory usage: 7.2 MB\n"
     ]
    }
   ],
   "source": [
    "df.info()"
   ]
  },
  {
   "cell_type": "markdown",
   "id": "d8f9834e",
   "metadata": {},
   "source": [
    "# EXPLORATORY DATA ANALYSIS (EDA)"
   ]
  },
  {
   "cell_type": "code",
   "execution_count": 18,
   "id": "a5d8f477",
   "metadata": {},
   "outputs": [
    {
     "data": {
      "image/png": "[encoded data removed]",
      "text/plain": [
       "<Figure size 1080x360 with 2 Axes>"
      ]
     },
     "metadata": {
      "needs_background": "light"
     },
     "output_type": "display_data"
    },
    {
     "data": {
      "image/png": "[encoded data removed]",
      "text/plain": [
       "<Figure size 1080x360 with 2 Axes>"
      ]
     },
     "metadata": {
      "needs_background": "light"
     },
     "output_type": "display_data"
    }
   ],
   "source": [
    "fig, ax = plt.subplots(1,2,figsize=(15,5))\n",
    "sns.countplot(data=df, x='grade', hue=\"home_ownership\", ax=ax[0]).set_title(\"Grade/Home Ownership distribution\");\n",
    "sns.countplot(data=df, x='home_ownership', hue='grade', ax=ax[1]).set_title(\"Grade/Home Ownership distribution\");\n",
    "\n",
    "fig, ax = plt.subplots(1,2,figsize=(15,5))\n",
    "sns.countplot(data=df, x='label', hue='purpose', ax=ax[0]).set_title(\"Grade Distribution with verification_status distribution\");\n",
    "sns.countplot(data=df, x='grade', hue='label', ax=ax[1]).set_title(\"Grade Distribution with loan_status\");"
   ]
  },
  {
   "cell_type": "raw",
   "id": "df363fbf",
   "metadata": {},
   "source": [
    "Analysis :\n",
    "The number of Borrowers with high grade will be small compared to low grade\n",
    "Most money borrowers' goals from labels 0 and 1 are debt consolidation\n",
    "The highest number of grades who were able to complete the loan was grade 4, while the most failed to complete the loan was grade 3"
   ]
  },
  {
   "cell_type": "code",
   "execution_count": 19,
   "id": "9cd16717",
   "metadata": {},
   "outputs": [
    {
     "data": {
      "text/plain": [
       "Text(0.5, 1.0, 'Loan amounts grouped by purpose')"
      ]
     },
     "execution_count": 19,
     "metadata": {},
     "output_type": "execute_result"
    },
    {
     "data": {
      "image/png": "[encoded data removed]",
      "text/plain": [
       "<Figure size 864x432 with 1 Axes>"
      ]
     },
     "metadata": {
      "needs_background": "light"
     },
     "output_type": "display_data"
    }
   ],
   "source": [
    "plt.figure(figsize=(12,6))\n",
    "sns.boxplot(x='purpose', y='loan_amnt', data=df)\n",
    "plt.xticks(rotation=30)\n",
    "plt.title('Loan amounts grouped by purpose')"
   ]
  },
  {
   "cell_type": "code",
   "execution_count": 20,
   "id": "f792ba6c",
   "metadata": {},
   "outputs": [
    {
     "data": {
      "image/png": "[encoded data removed]",
      "text/plain": [
       "<Figure size 1080x360 with 2 Axes>"
      ]
     },
     "metadata": {
      "needs_background": "light"
     },
     "output_type": "display_data"
    },
    {
     "data": {
      "image/png": "[encoded data removed]",
      "text/plain": [
       "<Figure size 1080x360 with 2 Axes>"
      ]
     },
     "metadata": {
      "needs_background": "light"
     },
     "output_type": "display_data"
    }
   ],
   "source": [
    "fig, ax = plt.subplots(1,2,figsize=(15,5))\n",
    "sns.histplot(df, x='loan_amnt',hue=\"label\", bins=30, ax=ax[0]).set_title(\"Loan Ammount distribution\");\n",
    "sns.countplot(data=df, x='term', hue=\"label\", ax=ax[1]).set_title(\"Term distribution\");\n",
    "\n",
    "fig, ax = plt.subplots(1,2,figsize=(15,5))\n",
    "sns.countplot(data=df, hue='home_ownership', x='label', ax=ax[1]).set_title(\"Home ownership with loan_status\");\n",
    "sns.countplot(data=df, x='verification_status', hue='label', ax=ax[0]).set_title(\"Verification Status Distribution with loan_status\");"
   ]
  },
  {
   "cell_type": "raw",
   "id": "0e0d4049",
   "metadata": {},
   "source": [
    "Analysis :\n",
    "The nominal value of the largest debt is 10000 USD\n",
    "The maximum maturity is 36 months, while for 60 months it is almost a third\n",
    "Most of the credits that can be paid in full are obtained from the \"Verified \" verification status"
   ]
  },
  {
   "cell_type": "code",
   "execution_count": 21,
   "id": "0cd8b0ae",
   "metadata": {},
   "outputs": [
    {
     "data": {
      "text/html": [
       "<div>\n",
       "<style scoped>\n",
       "    .dataframe tbody tr th:only-of-type {\n",
       "        vertical-align: middle;\n",
       "    }\n",
       "\n",
       "    .dataframe tbody tr th {\n",
       "        vertical-align: top;\n",
       "    }\n",
       "\n",
       "    .dataframe thead th {\n",
       "        text-align: right;\n",
       "    }\n",
       "</style>\n",
       "<table border=\"1\" class=\"dataframe\">\n",
       "  <thead>\n",
       "    <tr style=\"text-align: right;\">\n",
       "      <th></th>\n",
       "      <th>loan_amnt</th>\n",
       "      <th>term</th>\n",
       "      <th>int_rate</th>\n",
       "      <th>installment</th>\n",
       "      <th>grade</th>\n",
       "      <th>emp_length</th>\n",
       "      <th>home_ownership</th>\n",
       "      <th>annual_inc</th>\n",
       "      <th>verification_status</th>\n",
       "      <th>purpose</th>\n",
       "      <th>label</th>\n",
       "    </tr>\n",
       "  </thead>\n",
       "  <tbody>\n",
       "    <tr>\n",
       "      <th>0</th>\n",
       "      <td>5000</td>\n",
       "      <td>0</td>\n",
       "      <td>10.65</td>\n",
       "      <td>162.87</td>\n",
       "      <td>4</td>\n",
       "      <td>12</td>\n",
       "      <td>1</td>\n",
       "      <td>24000.0</td>\n",
       "      <td>2</td>\n",
       "      <td>1</td>\n",
       "      <td>0</td>\n",
       "    </tr>\n",
       "    <tr>\n",
       "      <th>1</th>\n",
       "      <td>2500</td>\n",
       "      <td>1</td>\n",
       "      <td>15.27</td>\n",
       "      <td>59.83</td>\n",
       "      <td>3</td>\n",
       "      <td>1</td>\n",
       "      <td>1</td>\n",
       "      <td>30000.0</td>\n",
       "      <td>1</td>\n",
       "      <td>0</td>\n",
       "      <td>1</td>\n",
       "    </tr>\n",
       "    <tr>\n",
       "      <th>2</th>\n",
       "      <td>2400</td>\n",
       "      <td>0</td>\n",
       "      <td>15.96</td>\n",
       "      <td>84.33</td>\n",
       "      <td>3</td>\n",
       "      <td>12</td>\n",
       "      <td>1</td>\n",
       "      <td>12252.0</td>\n",
       "      <td>0</td>\n",
       "      <td>11</td>\n",
       "      <td>0</td>\n",
       "    </tr>\n",
       "    <tr>\n",
       "      <th>3</th>\n",
       "      <td>10000</td>\n",
       "      <td>0</td>\n",
       "      <td>13.49</td>\n",
       "      <td>339.31</td>\n",
       "      <td>3</td>\n",
       "      <td>12</td>\n",
       "      <td>1</td>\n",
       "      <td>49200.0</td>\n",
       "      <td>1</td>\n",
       "      <td>9</td>\n",
       "      <td>0</td>\n",
       "    </tr>\n",
       "    <tr>\n",
       "      <th>4</th>\n",
       "      <td>3000</td>\n",
       "      <td>1</td>\n",
       "      <td>12.69</td>\n",
       "      <td>67.79</td>\n",
       "      <td>4</td>\n",
       "      <td>2</td>\n",
       "      <td>1</td>\n",
       "      <td>80000.0</td>\n",
       "      <td>1</td>\n",
       "      <td>9</td>\n",
       "      <td>0</td>\n",
       "    </tr>\n",
       "  </tbody>\n",
       "</table>\n",
       "</div>"
      ],
      "text/plain": [
       "   loan_amnt  term  int_rate  installment  grade  emp_length  home_ownership  \\\n",
       "0       5000     0     10.65       162.87      4          12               1   \n",
       "1       2500     1     15.27        59.83      3           1               1   \n",
       "2       2400     0     15.96        84.33      3          12               1   \n",
       "3      10000     0     13.49       339.31      3          12               1   \n",
       "4       3000     1     12.69        67.79      4           2               1   \n",
       "\n",
       "   annual_inc  verification_status  purpose  label  \n",
       "0     24000.0                    2        1      0  \n",
       "1     30000.0                    1        0      1  \n",
       "2     12252.0                    0       11      0  \n",
       "3     49200.0                    1        9      0  \n",
       "4     80000.0                    1        9      0  "
      ]
     },
     "execution_count": 21,
     "metadata": {},
     "output_type": "execute_result"
    }
   ],
   "source": [
    "for col in [\"verification_status\", \"purpose\",\"term\"]:\n",
    "    le = LabelEncoder()\n",
    "    le.fit(df[col])\n",
    "    df[col] = le.transform(df[col])\n",
    "df.head()"
   ]
  },
  {
   "cell_type": "code",
   "execution_count": 22,
   "id": "6ac1f758",
   "metadata": {},
   "outputs": [
    {
     "data": {
      "text/plain": [
       "loan_amnt              0\n",
       "term                   0\n",
       "int_rate               0\n",
       "installment            0\n",
       "grade                  0\n",
       "emp_length             0\n",
       "home_ownership         0\n",
       "annual_inc             0\n",
       "verification_status    0\n",
       "purpose                0\n",
       "label                  0\n",
       "dtype: int64"
      ]
     },
     "execution_count": 22,
     "metadata": {},
     "output_type": "execute_result"
    }
   ],
   "source": [
    "df.isnull().sum()"
   ]
  },
  {
   "cell_type": "code",
   "execution_count": 23,
   "id": "d4a41a7c",
   "metadata": {},
   "outputs": [],
   "source": [
    "df.label = df.label.fillna(1)"
   ]
  },
  {
   "cell_type": "code",
   "execution_count": 24,
   "id": "5c127894",
   "metadata": {},
   "outputs": [],
   "source": [
    "X = df.drop(['label'],axis=1)\n",
    "Y = df['label']"
   ]
  },
  {
   "cell_type": "code",
   "execution_count": 25,
   "id": "fd7dfab3",
   "metadata": {},
   "outputs": [
    {
     "data": {
      "text/plain": [
       "((69999, 10), (30000, 10), (69999,), (30000,))"
      ]
     },
     "execution_count": 25,
     "metadata": {},
     "output_type": "execute_result"
    }
   ],
   "source": [
    "from sklearn.model_selection import train_test_split\n",
    "X_train,X_test,Y_train,Y_test = train_test_split(X,Y,test_size=0.3,random_state=7)\n",
    "X_train.shape,X_test.shape,Y_train.shape,Y_test.shape"
   ]
  },
  {
   "cell_type": "code",
   "execution_count": 26,
   "id": "530314fb",
   "metadata": {},
   "outputs": [
    {
     "data": {
      "text/plain": [
       "0    0.867098\n",
       "1    0.132902\n",
       "Name: label, dtype: float64"
      ]
     },
     "execution_count": 26,
     "metadata": {},
     "output_type": "execute_result"
    }
   ],
   "source": [
    "Y_train.value_counts(normalize=True)"
   ]
  },
  {
   "cell_type": "markdown",
   "id": "624588f7",
   "metadata": {},
   "source": [
    "# BALANCING THE DATASET"
   ]
  },
  {
   "cell_type": "markdown",
   "id": "023e8f06",
   "metadata": {},
   "source": [
    "# OVER-SAMPLING"
   ]
  },
  {
   "cell_type": "code",
   "execution_count": 27,
   "id": "f6d43aa5",
   "metadata": {
    "scrolled": true
   },
   "outputs": [
    {
     "name": "stdout",
     "output_type": "stream",
     "text": [
      "Requirement already satisfied: imbalanced-learn in c:\\users\\91876\\anaconda3\\lib\\site-packages (0.9.1)\n",
      "Requirement already satisfied: scikit-learn>=1.1.0 in c:\\users\\91876\\anaconda3\\lib\\site-packages (from imbalanced-learn) (1.1.2)\n",
      "Requirement already satisfied: threadpoolctl>=2.0.0 in c:\\users\\91876\\anaconda3\\lib\\site-packages (from imbalanced-learn) (2.2.0)\n",
      "Requirement already satisfied: joblib>=1.0.0 in c:\\users\\91876\\anaconda3\\lib\\site-packages (from imbalanced-learn) (1.1.0)\n",
      "Requirement already satisfied: numpy>=1.17.3 in c:\\users\\91876\\anaconda3\\lib\\site-packages (from imbalanced-learn) (1.20.3)\n",
      "Requirement already satisfied: scipy>=1.3.2 in c:\\users\\91876\\anaconda3\\lib\\site-packages (from imbalanced-learn) (1.7.1)\n",
      "Requirement already satisfied: imblearn in c:\\users\\91876\\anaconda3\\lib\\site-packages (0.0)\n",
      "Requirement already satisfied: imbalanced-learn in c:\\users\\91876\\anaconda3\\lib\\site-packages (from imblearn) (0.9.1)\n",
      "Requirement already satisfied: scipy>=1.3.2 in c:\\users\\91876\\anaconda3\\lib\\site-packages (from imbalanced-learn->imblearn) (1.7.1)\n",
      "Requirement already satisfied: joblib>=1.0.0 in c:\\users\\91876\\anaconda3\\lib\\site-packages (from imbalanced-learn->imblearn) (1.1.0)\n",
      "Requirement already satisfied: scikit-learn>=1.1.0 in c:\\users\\91876\\anaconda3\\lib\\site-packages (from imbalanced-learn->imblearn) (1.1.2)\n",
      "Requirement already satisfied: threadpoolctl>=2.0.0 in c:\\users\\91876\\anaconda3\\lib\\site-packages (from imbalanced-learn->imblearn) (2.2.0)\n",
      "Requirement already satisfied: numpy>=1.17.3 in c:\\users\\91876\\anaconda3\\lib\\site-packages (from imbalanced-learn->imblearn) (1.20.3)\n"
     ]
    }
   ],
   "source": [
    "!pip install imbalanced-learn\n",
    "!pip install imblearn\n",
    "from imblearn.over_sampling import SMOTE\n",
    "sm = SMOTE(random_state=7)\n",
    "X_train_ovr, Y_train_ovr = sm.fit_resample(X_train,Y_train)"
   ]
  },
  {
   "cell_type": "code",
   "execution_count": 28,
   "id": "523e14d4",
   "metadata": {},
   "outputs": [
    {
     "data": {
      "text/plain": [
       "0    0.5\n",
       "1    0.5\n",
       "Name: label, dtype: float64"
      ]
     },
     "execution_count": 28,
     "metadata": {},
     "output_type": "execute_result"
    }
   ],
   "source": [
    "Y_train_ovr.value_counts(normalize=True)"
   ]
  },
  {
   "cell_type": "code",
   "execution_count": 29,
   "id": "13a77753",
   "metadata": {},
   "outputs": [
    {
     "data": {
      "text/plain": [
       "0    60696\n",
       "1    60696\n",
       "Name: label, dtype: int64"
      ]
     },
     "execution_count": 29,
     "metadata": {},
     "output_type": "execute_result"
    }
   ],
   "source": [
    "Y_train_ovr.value_counts()"
   ]
  },
  {
   "cell_type": "markdown",
   "id": "23eb01bc",
   "metadata": {},
   "source": [
    "# K-MEANS CLUSTERING"
   ]
  },
  {
   "cell_type": "code",
   "execution_count": 30,
   "id": "aed49dc8",
   "metadata": {},
   "outputs": [],
   "source": [
    "from sklearn import model_selection\n",
    "from sklearn.cluster import KMeans\n",
    "from sklearn.neighbors import KNeighborsClassifier\n"
   ]
  },
  {
   "cell_type": "code",
   "execution_count": 31,
   "id": "32d10ab0",
   "metadata": {},
   "outputs": [
    {
     "data": {
      "image/png": "[encoded data removed]",
      "text/plain": [
       "<Figure size 720x360 with 1 Axes>"
      ]
     },
     "metadata": {
      "needs_background": "light"
     },
     "output_type": "display_data"
    }
   ],
   "source": [
    "inertias = []\n",
    "\n",
    "for i in range(2,16):\n",
    "    kmeans = KMeans(n_clusters=i, random_state=0).fit(df)\n",
    "    inertias.append(kmeans.inertia_)\n",
    "\n",
    "plt.figure(figsize=(10,5))\n",
    "plt.title('Inertias v.s. N_Clusters')\n",
    "plt.plot(np.arange(2,16),inertias, marker='o', lw=2);"
   ]
  },
  {
   "cell_type": "code",
   "execution_count": 32,
   "id": "608d3c8c",
   "metadata": {},
   "outputs": [],
   "source": [
    "km = KMeans(n_clusters=5, random_state=0)\n",
    "clusters = km.fit_predict(df)"
   ]
  },
  {
   "cell_type": "code",
   "execution_count": 33,
   "id": "ce66d39d",
   "metadata": {},
   "outputs": [
    {
     "data": {
      "text/plain": [
       "array([4, 4, 4, ..., 0, 4, 0])"
      ]
     },
     "execution_count": 33,
     "metadata": {},
     "output_type": "execute_result"
    }
   ],
   "source": [
    "clusters"
   ]
  },
  {
   "cell_type": "code",
   "execution_count": 3,
   "id": "77307f6f",
   "metadata": {},
   "outputs": [
    {
     "ename": "SyntaxError",
     "evalue": "unexpected EOF while parsing (Temp/ipykernel_7524/4211849155.py, line 3)",
     "output_type": "error",
     "traceback": [
      "\u001b[1;36m  File \u001b[1;32m\"C:\\Users\\91876\\AppData\\Local\\Temp/ipykernel_7524/4211849155.py\"\u001b[1;36m, line \u001b[1;32m3\u001b[0m\n\u001b[1;33m    print('Accuracy:{0:f}'.format(score)\u001b[0m\n\u001b[1;37m                                        ^\u001b[0m\n\u001b[1;31mSyntaxError\u001b[0m\u001b[1;31m:\u001b[0m unexpected EOF while parsing\n"
     ]
    }
   ],
   "source": [
    "from sklearn.metrics import accuracy_score\n",
    "score = metrics.accuracy_score(Y_test,k_means.predict(X_test))\n",
    "print('Accuracy:{0:f}'.format(score)"
   ]
  },
  {
   "cell_type": "code",
   "execution_count": 34,
   "id": "ba0fe06e",
   "metadata": {},
   "outputs": [],
   "source": [
    "#X, y = df.drop(\"label\", axis=1), df[\"label\"]\n",
    "#X_train, X_test, y_train, y_test = model_selection.train_test_split(X, y, test_size=0.20, random_state=0)"
   ]
  },
  {
   "cell_type": "code",
   "execution_count": 33,
   "id": "3e80cfb3",
   "metadata": {},
   "outputs": [],
   "source": [
    "\n",
    "from sklearn.metrics import f1_score\n",
    "max_score = 0\n",
    "max_k = 0\n",
    "for k in range(1, 100):\n",
    "    neigh = KNeighborsClassifier(n_neighbors=k)\n",
    "    neigh.fit(X_train_ovr,Y_train_ovr)\n",
    "    score = f1_score(Y_test, neigh.predict(X_test),average='micro')\n",
    "    if score > max_score:\n",
    "        max_k = k\n",
    "        max_score = score"
   ]
  },
  {
   "cell_type": "code",
   "execution_count": 34,
   "id": "8009a477",
   "metadata": {},
   "outputs": [
    {
     "name": "stdout",
     "output_type": "stream",
     "text": [
      "If we use K-Nearest Neighbors Classification, then the value of K is 2  to get the best prediction, then the average accuracy is  0.7578333333333334\n"
     ]
    }
   ],
   "source": [
    "print('If we use K-Nearest Neighbors Classification, then the value of K is',str(max_k),' to get the best prediction, then the average accuracy is ', max_score)"
   ]
  },
  {
   "cell_type": "markdown",
   "id": "c161bce2",
   "metadata": {},
   "source": [
    "# SUPPORT VECTOR MACHINE (SVM)"
   ]
  },
  {
   "cell_type": "code",
   "execution_count": 37,
   "id": "aa976a76",
   "metadata": {},
   "outputs": [
    {
     "data": {
      "text/html": [
       "<style>#sk-container-id-1 {color: black;background-color: white;}#sk-container-id-1 pre{padding: 0;}#sk-container-id-1 div.sk-toggleable {background-color: white;}#sk-container-id-1 label.sk-toggleable__label {cursor: pointer;display: block;width: 100%;margin-bottom: 0;padding: 0.3em;box-sizing: border-box;text-align: center;}#sk-container-id-1 label.sk-toggleable__label-arrow:before {content: \"▸\";float: left;margin-right: 0.25em;color: #696969;}#sk-container-id-1 label.sk-toggleable__label-arrow:hover:before {color: black;}#sk-container-id-1 div.sk-estimator:hover label.sk-toggleable__label-arrow:before {color: black;}#sk-container-id-1 div.sk-toggleable__content {max-height: 0;max-width: 0;overflow: hidden;text-align: left;background-color: #f0f8ff;}#sk-container-id-1 div.sk-toggleable__content pre {margin: 0.2em;color: black;border-radius: 0.25em;background-color: #f0f8ff;}#sk-container-id-1 input.sk-toggleable__control:checked~div.sk-toggleable__content {max-height: 200px;max-width: 100%;overflow: auto;}#sk-container-id-1 input.sk-toggleable__control:checked~label.sk-toggleable__label-arrow:before {content: \"▾\";}#sk-container-id-1 div.sk-estimator input.sk-toggleable__control:checked~label.sk-toggleable__label {background-color: #d4ebff;}#sk-container-id-1 div.sk-label input.sk-toggleable__control:checked~label.sk-toggleable__label {background-color: #d4ebff;}#sk-container-id-1 input.sk-hidden--visually {border: 0;clip: rect(1px 1px 1px 1px);clip: rect(1px, 1px, 1px, 1px);height: 1px;margin: -1px;overflow: hidden;padding: 0;position: absolute;width: 1px;}#sk-container-id-1 div.sk-estimator {font-family: monospace;background-color: #f0f8ff;border: 1px dotted black;border-radius: 0.25em;box-sizing: border-box;margin-bottom: 0.5em;}#sk-container-id-1 div.sk-estimator:hover {background-color: #d4ebff;}#sk-container-id-1 div.sk-parallel-item::after {content: \"\";width: 100%;border-bottom: 1px solid gray;flex-grow: 1;}#sk-container-id-1 div.sk-label:hover label.sk-toggleable__label {background-color: #d4ebff;}#sk-container-id-1 div.sk-serial::before {content: \"\";position: absolute;border-left: 1px solid gray;box-sizing: border-box;top: 0;bottom: 0;left: 50%;z-index: 0;}#sk-container-id-1 div.sk-serial {display: flex;flex-direction: column;align-items: center;background-color: white;padding-right: 0.2em;padding-left: 0.2em;position: relative;}#sk-container-id-1 div.sk-item {position: relative;z-index: 1;}#sk-container-id-1 div.sk-parallel {display: flex;align-items: stretch;justify-content: center;background-color: white;position: relative;}#sk-container-id-1 div.sk-item::before, #sk-container-id-1 div.sk-parallel-item::before {content: \"\";position: absolute;border-left: 1px solid gray;box-sizing: border-box;top: 0;bottom: 0;left: 50%;z-index: -1;}#sk-container-id-1 div.sk-parallel-item {display: flex;flex-direction: column;z-index: 1;position: relative;background-color: white;}#sk-container-id-1 div.sk-parallel-item:first-child::after {align-self: flex-end;width: 50%;}#sk-container-id-1 div.sk-parallel-item:last-child::after {align-self: flex-start;width: 50%;}#sk-container-id-1 div.sk-parallel-item:only-child::after {width: 0;}#sk-container-id-1 div.sk-dashed-wrapped {border: 1px dashed gray;margin: 0 0.4em 0.5em 0.4em;box-sizing: border-box;padding-bottom: 0.4em;background-color: white;}#sk-container-id-1 div.sk-label label {font-family: monospace;font-weight: bold;display: inline-block;line-height: 1.2em;}#sk-container-id-1 div.sk-label-container {text-align: center;}#sk-container-id-1 div.sk-container {/* jupyter's `normalize.less` sets `[hidden] { display: none; }` but bootstrap.min.css set `[hidden] { display: none !important; }` so we also need the `!important` here to be able to override the default hidden behavior on the sphinx rendered scikit-learn.org. See: https://github.com/scikit-learn/scikit-learn/issues/21755 */display: inline-block !important;position: relative;}#sk-container-id-1 div.sk-text-repr-fallback {display: none;}</style><div id=\"sk-container-id-1\" class=\"sk-top-container\"><div class=\"sk-text-repr-fallback\"><pre>SVC(random_state=7)</pre><b>In a Jupyter environment, please rerun this cell to show the HTML representation or trust the notebook. <br />On GitHub, the HTML representation is unable to render, please try loading this page with nbviewer.org.</b></div><div class=\"sk-container\" hidden><div class=\"sk-item\"><div class=\"sk-estimator sk-toggleable\"><input class=\"sk-toggleable__control sk-hidden--visually\" id=\"sk-estimator-id-1\" type=\"checkbox\" checked><label for=\"sk-estimator-id-1\" class=\"sk-toggleable__label sk-toggleable__label-arrow\">SVC</label><div class=\"sk-toggleable__content\"><pre>SVC(random_state=7)</pre></div></div></div></div></div>"
      ],
      "text/plain": [
       "SVC(random_state=7)"
      ]
     },
     "execution_count": 37,
     "metadata": {},
     "output_type": "execute_result"
    }
   ],
   "source": [
    "from sklearn.svm import SVC\n",
    "svc = SVC(random_state=7)\n",
    "svc.fit(X_train_ovr,Y_train_ovr)"
   ]
  },
  {
   "cell_type": "code",
   "execution_count": 38,
   "id": "dd750cff",
   "metadata": {},
   "outputs": [
    {
     "data": {
      "text/plain": [
       "((30000,), (30000,))"
      ]
     },
     "execution_count": 38,
     "metadata": {},
     "output_type": "execute_result"
    }
   ],
   "source": [
    "Y_pred = svc.predict(X_test)\n",
    "Y_pred.shape, Y_test.shape"
   ]
  },
  {
   "cell_type": "code",
   "execution_count": 39,
   "id": "c2a45590",
   "metadata": {},
   "outputs": [],
   "source": [
    "def apply_model(model,X_train_ovr,Y_train_ovr,X_test,Y_test):\n",
    "    model.fit(X_train_ovr,Y_train_ovr)\n",
    "    Y_pred = model.predict(X_test)\n",
    "    print(Y_pred.shape,Y_test.shape)\n",
    "    ## evaluation\n",
    "    from sklearn.metrics import precision_recall_fscore_support\n",
    "    res = precision_recall_fscore_support(Y_test, Y_pred)\n",
    "    print(\"Model name ::\", model.__class__)\n",
    "    print(\"Result::\", res)\n",
    "    ## return evaluation"
   ]
  },
  {
   "cell_type": "code",
   "execution_count": null,
   "id": "0fde3136",
   "metadata": {},
   "outputs": [
    {
     "name": "stdout",
     "output_type": "stream",
     "text": [
      "C value = 0.5\n",
      "gamma value =  0.1\n",
      "(30000,) (30000,)\n",
      "Model name :: <class 'sklearn.svm._classes.SVC'>\n",
      "Result:: (array([0.86405933, 0.14025086]), array([0.97090825, 0.03013229]), array([0.91437292, 0.04960678]), array([25918,  4082], dtype=int64))\n",
      "C value = 0.5\n",
      "gamma value =  0.2\n",
      "(30000,) (30000,)\n",
      "Model name :: <class 'sklearn.svm._classes.SVC'>\n",
      "Result:: (array([0.86388409, 0.1328976 ]), array([0.98464388, 0.01494366]), array([0.92031952, 0.02686633]), array([25918,  4082], dtype=int64))\n",
      "C value = 0.5\n",
      "gamma value =  0.30000000000000004\n",
      "(30000,) (30000,)\n",
      "Model name :: <class 'sklearn.svm._classes.SVC'>\n",
      "Result:: (array([0.86399731, 0.14285714]), array([0.99074003, 0.00979912]), array([0.92303821, 0.01834021]), array([25918,  4082], dtype=int64))\n",
      "C value = 0.5\n",
      "gamma value =  0.4\n",
      "(30000,) (30000,)\n",
      "Model name :: <class 'sklearn.svm._classes.SVC'>\n",
      "Result:: (array([0.86409655, 0.16470588]), array([0.99452118, 0.00685938]), array([0.92473273, 0.01317027]), array([25918,  4082], dtype=int64))\n",
      "C value = 0.5\n",
      "gamma value =  0.5\n",
      "(30000,) (30000,)\n",
      "Model name :: <class 'sklearn.svm._classes.SVC'>\n",
      "Result:: (array([0.86408514, 0.17355372]), array([0.99614168, 0.00514454]), array([0.9254261 , 0.00999286]), array([25918,  4082], dtype=int64))\n",
      "C value = 0.5\n",
      "gamma value =  0.6\n",
      "(30000,) (30000,)\n",
      "Model name :: <class 'sklearn.svm._classes.SVC'>\n",
      "Result:: (array([0.86394944, 0.14130435]), array([0.99695193, 0.00318471]), array([0.9256977 , 0.00622904]), array([25918,  4082], dtype=int64))\n",
      "C value = 0.5\n",
      "gamma value =  0.7000000000000001\n",
      "(30000,) (30000,)\n",
      "Model name :: <class 'sklearn.svm._classes.SVC'>\n",
      "Result:: (array([0.86392944, 0.13432836]), array([0.99776217, 0.0022048 ]), array([0.92603534, 0.00433839]), array([25918,  4082], dtype=int64))\n",
      "C value = 0.5\n",
      "gamma value =  0.8\n"
     ]
    }
   ],
   "source": [
    "import numpy as np\n",
    "for c in np.arange(0.5,2,0.2):\n",
    "    for g in np.arange(0.1,1,0.1):\n",
    "        print(\"C value =\", c)\n",
    "        print(\"gamma value = \", g)\n",
    "        from sklearn.svm import SVC \n",
    "        # create svc model\n",
    "        svc = SVC( C=c, gamma = g,  random_state=7)\n",
    "        # apply it \n",
    "        # print the results\n",
    "        apply_model(svc,X_train_ovr,Y_train_ovr,X_test,Y_test)"
   ]
  },
  {
   "cell_type": "markdown",
   "id": "0a717712",
   "metadata": {},
   "source": [
    "# DECISION TREE"
   ]
  },
  {
   "cell_type": "code",
   "execution_count": 35,
   "id": "a39776fc",
   "metadata": {},
   "outputs": [
    {
     "data": {
      "text/html": [
       "<style>#sk-container-id-1 {color: black;background-color: white;}#sk-container-id-1 pre{padding: 0;}#sk-container-id-1 div.sk-toggleable {background-color: white;}#sk-container-id-1 label.sk-toggleable__label {cursor: pointer;display: block;width: 100%;margin-bottom: 0;padding: 0.3em;box-sizing: border-box;text-align: center;}#sk-container-id-1 label.sk-toggleable__label-arrow:before {content: \"▸\";float: left;margin-right: 0.25em;color: #696969;}#sk-container-id-1 label.sk-toggleable__label-arrow:hover:before {color: black;}#sk-container-id-1 div.sk-estimator:hover label.sk-toggleable__label-arrow:before {color: black;}#sk-container-id-1 div.sk-toggleable__content {max-height: 0;max-width: 0;overflow: hidden;text-align: left;background-color: #f0f8ff;}#sk-container-id-1 div.sk-toggleable__content pre {margin: 0.2em;color: black;border-radius: 0.25em;background-color: #f0f8ff;}#sk-container-id-1 input.sk-toggleable__control:checked~div.sk-toggleable__content {max-height: 200px;max-width: 100%;overflow: auto;}#sk-container-id-1 input.sk-toggleable__control:checked~label.sk-toggleable__label-arrow:before {content: \"▾\";}#sk-container-id-1 div.sk-estimator input.sk-toggleable__control:checked~label.sk-toggleable__label {background-color: #d4ebff;}#sk-container-id-1 div.sk-label input.sk-toggleable__control:checked~label.sk-toggleable__label {background-color: #d4ebff;}#sk-container-id-1 input.sk-hidden--visually {border: 0;clip: rect(1px 1px 1px 1px);clip: rect(1px, 1px, 1px, 1px);height: 1px;margin: -1px;overflow: hidden;padding: 0;position: absolute;width: 1px;}#sk-container-id-1 div.sk-estimator {font-family: monospace;background-color: #f0f8ff;border: 1px dotted black;border-radius: 0.25em;box-sizing: border-box;margin-bottom: 0.5em;}#sk-container-id-1 div.sk-estimator:hover {background-color: #d4ebff;}#sk-container-id-1 div.sk-parallel-item::after {content: \"\";width: 100%;border-bottom: 1px solid gray;flex-grow: 1;}#sk-container-id-1 div.sk-label:hover label.sk-toggleable__label {background-color: #d4ebff;}#sk-container-id-1 div.sk-serial::before {content: \"\";position: absolute;border-left: 1px solid gray;box-sizing: border-box;top: 0;bottom: 0;left: 50%;z-index: 0;}#sk-container-id-1 div.sk-serial {display: flex;flex-direction: column;align-items: center;background-color: white;padding-right: 0.2em;padding-left: 0.2em;position: relative;}#sk-container-id-1 div.sk-item {position: relative;z-index: 1;}#sk-container-id-1 div.sk-parallel {display: flex;align-items: stretch;justify-content: center;background-color: white;position: relative;}#sk-container-id-1 div.sk-item::before, #sk-container-id-1 div.sk-parallel-item::before {content: \"\";position: absolute;border-left: 1px solid gray;box-sizing: border-box;top: 0;bottom: 0;left: 50%;z-index: -1;}#sk-container-id-1 div.sk-parallel-item {display: flex;flex-direction: column;z-index: 1;position: relative;background-color: white;}#sk-container-id-1 div.sk-parallel-item:first-child::after {align-self: flex-end;width: 50%;}#sk-container-id-1 div.sk-parallel-item:last-child::after {align-self: flex-start;width: 50%;}#sk-container-id-1 div.sk-parallel-item:only-child::after {width: 0;}#sk-container-id-1 div.sk-dashed-wrapped {border: 1px dashed gray;margin: 0 0.4em 0.5em 0.4em;box-sizing: border-box;padding-bottom: 0.4em;background-color: white;}#sk-container-id-1 div.sk-label label {font-family: monospace;font-weight: bold;display: inline-block;line-height: 1.2em;}#sk-container-id-1 div.sk-label-container {text-align: center;}#sk-container-id-1 div.sk-container {/* jupyter's `normalize.less` sets `[hidden] { display: none; }` but bootstrap.min.css set `[hidden] { display: none !important; }` so we also need the `!important` here to be able to override the default hidden behavior on the sphinx rendered scikit-learn.org. See: https://github.com/scikit-learn/scikit-learn/issues/21755 */display: inline-block !important;position: relative;}#sk-container-id-1 div.sk-text-repr-fallback {display: none;}</style><div id=\"sk-container-id-1\" class=\"sk-top-container\"><div class=\"sk-text-repr-fallback\"><pre>DecisionTreeClassifier(random_state=7)</pre><b>In a Jupyter environment, please rerun this cell to show the HTML representation or trust the notebook. <br />On GitHub, the HTML representation is unable to render, please try loading this page with nbviewer.org.</b></div><div class=\"sk-container\" hidden><div class=\"sk-item\"><div class=\"sk-estimator sk-toggleable\"><input class=\"sk-toggleable__control sk-hidden--visually\" id=\"sk-estimator-id-1\" type=\"checkbox\" checked><label for=\"sk-estimator-id-1\" class=\"sk-toggleable__label sk-toggleable__label-arrow\">DecisionTreeClassifier</label><div class=\"sk-toggleable__content\"><pre>DecisionTreeClassifier(random_state=7)</pre></div></div></div></div></div>"
      ],
      "text/plain": [
       "DecisionTreeClassifier(random_state=7)"
      ]
     },
     "execution_count": 35,
     "metadata": {},
     "output_type": "execute_result"
    }
   ],
   "source": [
    "from sklearn.tree import DecisionTreeClassifier\n",
    "dt = DecisionTreeClassifier(random_state=7)\n",
    "dt.fit(X_train_ovr,Y_train_ovr)"
   ]
  },
  {
   "cell_type": "code",
   "execution_count": 36,
   "id": "9214f7f4",
   "metadata": {},
   "outputs": [],
   "source": [
    "Y_pred = dt.predict(X_test)"
   ]
  },
  {
   "cell_type": "code",
   "execution_count": 37,
   "id": "31f747a7",
   "metadata": {},
   "outputs": [
    {
     "data": {
      "text/plain": [
       "((30000,), (30000,))"
      ]
     },
     "execution_count": 37,
     "metadata": {},
     "output_type": "execute_result"
    }
   ],
   "source": [
    "Y_pred.shape, Y_test.shape"
   ]
  },
  {
   "cell_type": "code",
   "execution_count": 38,
   "id": "d5f4cb7a",
   "metadata": {},
   "outputs": [
    {
     "name": "stdout",
     "output_type": "stream",
     "text": [
      "Result:: (array([0.8775771 , 0.18516248]), array([0.79489158, 0.29593337]), array([0.83419039, 0.22779559]), array([25918,  4082], dtype=int64))\n"
     ]
    }
   ],
   "source": [
    "from sklearn.metrics import precision_recall_fscore_support\n",
    "res = precision_recall_fscore_support(Y_test, Y_pred)\n",
    "#print(\"Model name ::\", model.__class__)\n",
    "print(\"Result::\", res)"
   ]
  },
  {
   "cell_type": "code",
   "execution_count": 81,
   "id": "ea5de9dd",
   "metadata": {},
   "outputs": [],
   "source": [
    "score = dt.score(X_test, Y_test)"
   ]
  },
  {
   "cell_type": "code",
   "execution_count": 82,
   "id": "92ed8e8f",
   "metadata": {},
   "outputs": [
    {
     "data": {
      "text/plain": [
       "0.727"
      ]
     },
     "execution_count": 82,
     "metadata": {},
     "output_type": "execute_result"
    }
   ],
   "source": [
    "score"
   ]
  },
  {
   "cell_type": "markdown",
   "id": "0609fde6",
   "metadata": {},
   "source": [
    "# RANDOM FOREST"
   ]
  },
  {
   "cell_type": "code",
   "execution_count": 39,
   "id": "bf2d20a7",
   "metadata": {},
   "outputs": [],
   "source": [
    "from sklearn.ensemble import RandomForestClassifier\n",
    "rfc = RandomForestClassifier(n_estimators=30, random_state=7, max_samples=0.8) # class_weight=None,\n",
    "rfc.fit(X_train_ovr,Y_train_ovr)\n",
    "Y_pred = rfc.predict(X_test)"
   ]
  },
  {
   "cell_type": "code",
   "execution_count": 42,
   "id": "d0b441f1",
   "metadata": {},
   "outputs": [
    {
     "name": "stdout",
     "output_type": "stream",
     "text": [
      "[[22332  3586]\n",
      " [ 3097   985]]\n",
      "              precision    recall  f1-score   support\n",
      "\n",
      "           0       0.88      0.86      0.87     25918\n",
      "           1       0.22      0.24      0.23      4082\n",
      "\n",
      "    accuracy                           0.78     30000\n",
      "   macro avg       0.55      0.55      0.55     30000\n",
      "weighted avg       0.79      0.78      0.78     30000\n",
      "\n",
      "0.7772333333333333\n"
     ]
    }
   ],
   "source": [
    "from sklearn.metrics import classification_report, confusion_matrix, accuracy_score\n",
    "print(confusion_matrix(Y_test, Y_pred))\n",
    "print(classification_report(Y_test, Y_pred))\n",
    "print(accuracy_score(Y_test, Y_pred))"
   ]
  },
  {
   "cell_type": "markdown",
   "id": "d454b871",
   "metadata": {},
   "source": [
    "# XGBOOST"
   ]
  },
  {
   "cell_type": "code",
   "execution_count": 43,
   "id": "06836802",
   "metadata": {},
   "outputs": [],
   "source": [
    "from sklearn.ensemble import GradientBoostingClassifier"
   ]
  },
  {
   "cell_type": "code",
   "execution_count": 44,
   "id": "26d73c5a",
   "metadata": {},
   "outputs": [],
   "source": [
    "xgbc = GradientBoostingClassifier(n_estimators=100, learning_rate=1.0, random_state=7)"
   ]
  },
  {
   "cell_type": "code",
   "execution_count": 45,
   "id": "a9d67eb4",
   "metadata": {},
   "outputs": [
    {
     "data": {
      "text/html": [
       "<style>#sk-container-id-2 {color: black;background-color: white;}#sk-container-id-2 pre{padding: 0;}#sk-container-id-2 div.sk-toggleable {background-color: white;}#sk-container-id-2 label.sk-toggleable__label {cursor: pointer;display: block;width: 100%;margin-bottom: 0;padding: 0.3em;box-sizing: border-box;text-align: center;}#sk-container-id-2 label.sk-toggleable__label-arrow:before {content: \"▸\";float: left;margin-right: 0.25em;color: #696969;}#sk-container-id-2 label.sk-toggleable__label-arrow:hover:before {color: black;}#sk-container-id-2 div.sk-estimator:hover label.sk-toggleable__label-arrow:before {color: black;}#sk-container-id-2 div.sk-toggleable__content {max-height: 0;max-width: 0;overflow: hidden;text-align: left;background-color: #f0f8ff;}#sk-container-id-2 div.sk-toggleable__content pre {margin: 0.2em;color: black;border-radius: 0.25em;background-color: #f0f8ff;}#sk-container-id-2 input.sk-toggleable__control:checked~div.sk-toggleable__content {max-height: 200px;max-width: 100%;overflow: auto;}#sk-container-id-2 input.sk-toggleable__control:checked~label.sk-toggleable__label-arrow:before {content: \"▾\";}#sk-container-id-2 div.sk-estimator input.sk-toggleable__control:checked~label.sk-toggleable__label {background-color: #d4ebff;}#sk-container-id-2 div.sk-label input.sk-toggleable__control:checked~label.sk-toggleable__label {background-color: #d4ebff;}#sk-container-id-2 input.sk-hidden--visually {border: 0;clip: rect(1px 1px 1px 1px);clip: rect(1px, 1px, 1px, 1px);height: 1px;margin: -1px;overflow: hidden;padding: 0;position: absolute;width: 1px;}#sk-container-id-2 div.sk-estimator {font-family: monospace;background-color: #f0f8ff;border: 1px dotted black;border-radius: 0.25em;box-sizing: border-box;margin-bottom: 0.5em;}#sk-container-id-2 div.sk-estimator:hover {background-color: #d4ebff;}#sk-container-id-2 div.sk-parallel-item::after {content: \"\";width: 100%;border-bottom: 1px solid gray;flex-grow: 1;}#sk-container-id-2 div.sk-label:hover label.sk-toggleable__label {background-color: #d4ebff;}#sk-container-id-2 div.sk-serial::before {content: \"\";position: absolute;border-left: 1px solid gray;box-sizing: border-box;top: 0;bottom: 0;left: 50%;z-index: 0;}#sk-container-id-2 div.sk-serial {display: flex;flex-direction: column;align-items: center;background-color: white;padding-right: 0.2em;padding-left: 0.2em;position: relative;}#sk-container-id-2 div.sk-item {position: relative;z-index: 1;}#sk-container-id-2 div.sk-parallel {display: flex;align-items: stretch;justify-content: center;background-color: white;position: relative;}#sk-container-id-2 div.sk-item::before, #sk-container-id-2 div.sk-parallel-item::before {content: \"\";position: absolute;border-left: 1px solid gray;box-sizing: border-box;top: 0;bottom: 0;left: 50%;z-index: -1;}#sk-container-id-2 div.sk-parallel-item {display: flex;flex-direction: column;z-index: 1;position: relative;background-color: white;}#sk-container-id-2 div.sk-parallel-item:first-child::after {align-self: flex-end;width: 50%;}#sk-container-id-2 div.sk-parallel-item:last-child::after {align-self: flex-start;width: 50%;}#sk-container-id-2 div.sk-parallel-item:only-child::after {width: 0;}#sk-container-id-2 div.sk-dashed-wrapped {border: 1px dashed gray;margin: 0 0.4em 0.5em 0.4em;box-sizing: border-box;padding-bottom: 0.4em;background-color: white;}#sk-container-id-2 div.sk-label label {font-family: monospace;font-weight: bold;display: inline-block;line-height: 1.2em;}#sk-container-id-2 div.sk-label-container {text-align: center;}#sk-container-id-2 div.sk-container {/* jupyter's `normalize.less` sets `[hidden] { display: none; }` but bootstrap.min.css set `[hidden] { display: none !important; }` so we also need the `!important` here to be able to override the default hidden behavior on the sphinx rendered scikit-learn.org. See: https://github.com/scikit-learn/scikit-learn/issues/21755 */display: inline-block !important;position: relative;}#sk-container-id-2 div.sk-text-repr-fallback {display: none;}</style><div id=\"sk-container-id-2\" class=\"sk-top-container\"><div class=\"sk-text-repr-fallback\"><pre>GradientBoostingClassifier(learning_rate=1.0, random_state=7)</pre><b>In a Jupyter environment, please rerun this cell to show the HTML representation or trust the notebook. <br />On GitHub, the HTML representation is unable to render, please try loading this page with nbviewer.org.</b></div><div class=\"sk-container\" hidden><div class=\"sk-item\"><div class=\"sk-estimator sk-toggleable\"><input class=\"sk-toggleable__control sk-hidden--visually\" id=\"sk-estimator-id-2\" type=\"checkbox\" checked><label for=\"sk-estimator-id-2\" class=\"sk-toggleable__label sk-toggleable__label-arrow\">GradientBoostingClassifier</label><div class=\"sk-toggleable__content\"><pre>GradientBoostingClassifier(learning_rate=1.0, random_state=7)</pre></div></div></div></div></div>"
      ],
      "text/plain": [
       "GradientBoostingClassifier(learning_rate=1.0, random_state=7)"
      ]
     },
     "execution_count": 45,
     "metadata": {},
     "output_type": "execute_result"
    }
   ],
   "source": [
    "xgbc.fit(X_train_ovr, Y_train_ovr)"
   ]
  },
  {
   "cell_type": "code",
   "execution_count": 46,
   "id": "d93f5c8a",
   "metadata": {},
   "outputs": [
    {
     "name": "stdout",
     "output_type": "stream",
     "text": [
      "[[22332  3586]\n",
      " [ 3097   985]]\n",
      "              precision    recall  f1-score   support\n",
      "\n",
      "           0       0.88      0.86      0.87     25918\n",
      "           1       0.22      0.24      0.23      4082\n",
      "\n",
      "    accuracy                           0.78     30000\n",
      "   macro avg       0.55      0.55      0.55     30000\n",
      "weighted avg       0.79      0.78      0.78     30000\n",
      "\n",
      "0.7772333333333333\n"
     ]
    }
   ],
   "source": [
    "from sklearn.metrics import classification_report, confusion_matrix, accuracy_score\n",
    "print(confusion_matrix(Y_test, Y_pred))\n",
    "print(classification_report(Y_test, Y_pred))\n",
    "print(accuracy_score(Y_test, Y_pred))"
   ]
  },
  {
   "cell_type": "code",
   "execution_count": 47,
   "id": "e2590e51",
   "metadata": {},
   "outputs": [],
   "source": [
    "Y_pred = xgbc.predict(X_test)"
   ]
  },
  {
   "cell_type": "markdown",
   "id": "81fd87ba",
   "metadata": {},
   "source": [
    "# FINE-TUNING XGBOOST"
   ]
  },
  {
   "cell_type": "code",
   "execution_count": 48,
   "id": "a0fe1598",
   "metadata": {},
   "outputs": [],
   "source": [
    "#Fine tune the XGBoost using grid search\n",
    "\n",
    "from sklearn.model_selection import GridSearchCV\n",
    "# this is grid search CV ( cv means cross validation --> k fold cross validation)"
   ]
  },
  {
   "cell_type": "code",
   "execution_count": 49,
   "id": "2a2c69f0",
   "metadata": {},
   "outputs": [],
   "source": [
    "# param grid is dictionary \n",
    "# key --> name of parameter to be tuned\n",
    "# value --> list of values which you want to check \n",
    "param_grid = {\n",
    "'n_estimators' : [ 50, 200, 500],\n",
    "'subsample' : [0.7, 0.8, 0.9],\n",
    "'max_depth' :[ 3, 5,7],\n",
    "'max_features' : ['sqrt', 'log2']\n",
    "}"
   ]
  },
  {
   "cell_type": "code",
   "execution_count": 50,
   "id": "9362ea00",
   "metadata": {},
   "outputs": [],
   "source": [
    "from sklearn.ensemble import GradientBoostingClassifier"
   ]
  },
  {
   "cell_type": "code",
   "execution_count": 51,
   "id": "22754ac1",
   "metadata": {},
   "outputs": [],
   "source": [
    "gscv =GridSearchCV(estimator = GradientBoostingClassifier(), param_grid = param_grid, cv=2, verbose=2)"
   ]
  },
  {
   "cell_type": "code",
   "execution_count": 52,
   "id": "c26a48a2",
   "metadata": {},
   "outputs": [
    {
     "name": "stdout",
     "output_type": "stream",
     "text": [
      "Fitting 2 folds for each of 54 candidates, totalling 108 fits\n",
      "[CV] END max_depth=3, max_features=sqrt, n_estimators=50, subsample=0.7; total time=   3.1s\n",
      "[CV] END max_depth=3, max_features=sqrt, n_estimators=50, subsample=0.7; total time=   3.0s\n",
      "[CV] END max_depth=3, max_features=sqrt, n_estimators=50, subsample=0.8; total time=   3.3s\n",
      "[CV] END max_depth=3, max_features=sqrt, n_estimators=50, subsample=0.8; total time=   3.2s\n",
      "[CV] END max_depth=3, max_features=sqrt, n_estimators=50, subsample=0.9; total time=   3.4s\n",
      "[CV] END max_depth=3, max_features=sqrt, n_estimators=50, subsample=0.9; total time=   3.3s\n",
      "[CV] END max_depth=3, max_features=sqrt, n_estimators=200, subsample=0.7; total time=  12.4s\n",
      "[CV] END max_depth=3, max_features=sqrt, n_estimators=200, subsample=0.7; total time=  12.1s\n",
      "[CV] END max_depth=3, max_features=sqrt, n_estimators=200, subsample=0.8; total time=  13.0s\n",
      "[CV] END max_depth=3, max_features=sqrt, n_estimators=200, subsample=0.8; total time=  12.4s\n",
      "[CV] END max_depth=3, max_features=sqrt, n_estimators=200, subsample=0.9; total time=  13.4s\n",
      "[CV] END max_depth=3, max_features=sqrt, n_estimators=200, subsample=0.9; total time=  13.1s\n",
      "[CV] END max_depth=3, max_features=sqrt, n_estimators=500, subsample=0.7; total time=  30.2s\n",
      "[CV] END max_depth=3, max_features=sqrt, n_estimators=500, subsample=0.7; total time=  29.5s\n",
      "[CV] END max_depth=3, max_features=sqrt, n_estimators=500, subsample=0.8; total time=  32.0s\n",
      "[CV] END max_depth=3, max_features=sqrt, n_estimators=500, subsample=0.8; total time=  31.6s\n",
      "[CV] END max_depth=3, max_features=sqrt, n_estimators=500, subsample=0.9; total time=  34.2s\n",
      "[CV] END max_depth=3, max_features=sqrt, n_estimators=500, subsample=0.9; total time=  32.3s\n",
      "[CV] END max_depth=3, max_features=log2, n_estimators=50, subsample=0.7; total time=   3.0s\n",
      "[CV] END max_depth=3, max_features=log2, n_estimators=50, subsample=0.7; total time=   3.0s\n",
      "[CV] END max_depth=3, max_features=log2, n_estimators=50, subsample=0.8; total time=   3.2s\n",
      "[CV] END max_depth=3, max_features=log2, n_estimators=50, subsample=0.8; total time=   3.2s\n",
      "[CV] END max_depth=3, max_features=log2, n_estimators=50, subsample=0.9; total time=   3.3s\n",
      "[CV] END max_depth=3, max_features=log2, n_estimators=50, subsample=0.9; total time=   3.3s\n",
      "[CV] END max_depth=3, max_features=log2, n_estimators=200, subsample=0.7; total time=  12.2s\n",
      "[CV] END max_depth=3, max_features=log2, n_estimators=200, subsample=0.7; total time=  11.7s\n",
      "[CV] END max_depth=3, max_features=log2, n_estimators=200, subsample=0.8; total time=  12.6s\n",
      "[CV] END max_depth=3, max_features=log2, n_estimators=200, subsample=0.8; total time=  12.4s\n",
      "[CV] END max_depth=3, max_features=log2, n_estimators=200, subsample=0.9; total time=  13.6s\n",
      "[CV] END max_depth=3, max_features=log2, n_estimators=200, subsample=0.9; total time=  13.0s\n",
      "[CV] END max_depth=3, max_features=log2, n_estimators=500, subsample=0.7; total time=  29.1s\n",
      "[CV] END max_depth=3, max_features=log2, n_estimators=500, subsample=0.7; total time=  29.4s\n",
      "[CV] END max_depth=3, max_features=log2, n_estimators=500, subsample=0.8; total time=  32.0s\n",
      "[CV] END max_depth=3, max_features=log2, n_estimators=500, subsample=0.8; total time=  31.2s\n",
      "[CV] END max_depth=3, max_features=log2, n_estimators=500, subsample=0.9; total time=  33.9s\n",
      "[CV] END max_depth=3, max_features=log2, n_estimators=500, subsample=0.9; total time=  32.5s\n",
      "[CV] END max_depth=5, max_features=sqrt, n_estimators=50, subsample=0.7; total time=   4.4s\n",
      "[CV] END max_depth=5, max_features=sqrt, n_estimators=50, subsample=0.7; total time=   4.5s\n",
      "[CV] END max_depth=5, max_features=sqrt, n_estimators=50, subsample=0.8; total time=   5.0s\n",
      "[CV] END max_depth=5, max_features=sqrt, n_estimators=50, subsample=0.8; total time=   4.8s\n",
      "[CV] END max_depth=5, max_features=sqrt, n_estimators=50, subsample=0.9; total time=   5.1s\n",
      "[CV] END max_depth=5, max_features=sqrt, n_estimators=50, subsample=0.9; total time=   5.1s\n",
      "[CV] END max_depth=5, max_features=sqrt, n_estimators=200, subsample=0.7; total time=  17.9s\n",
      "[CV] END max_depth=5, max_features=sqrt, n_estimators=200, subsample=0.7; total time=  17.2s\n",
      "[CV] END max_depth=5, max_features=sqrt, n_estimators=200, subsample=0.8; total time=  19.1s\n",
      "[CV] END max_depth=5, max_features=sqrt, n_estimators=200, subsample=0.8; total time=  18.2s\n",
      "[CV] END max_depth=5, max_features=sqrt, n_estimators=200, subsample=0.9; total time=  20.0s\n",
      "[CV] END max_depth=5, max_features=sqrt, n_estimators=200, subsample=0.9; total time=  19.5s\n",
      "[CV] END max_depth=5, max_features=sqrt, n_estimators=500, subsample=0.7; total time=  44.8s\n",
      "[CV] END max_depth=5, max_features=sqrt, n_estimators=500, subsample=0.7; total time=  43.2s\n",
      "[CV] END max_depth=5, max_features=sqrt, n_estimators=500, subsample=0.8; total time=  47.8s\n",
      "[CV] END max_depth=5, max_features=sqrt, n_estimators=500, subsample=0.8; total time=  46.2s\n",
      "[CV] END max_depth=5, max_features=sqrt, n_estimators=500, subsample=0.9; total time=  50.4s\n",
      "[CV] END max_depth=5, max_features=sqrt, n_estimators=500, subsample=0.9; total time=  48.7s\n",
      "[CV] END max_depth=5, max_features=log2, n_estimators=50, subsample=0.7; total time=   4.5s\n",
      "[CV] END max_depth=5, max_features=log2, n_estimators=50, subsample=0.7; total time=   4.4s\n",
      "[CV] END max_depth=5, max_features=log2, n_estimators=50, subsample=0.8; total time=   4.8s\n",
      "[CV] END max_depth=5, max_features=log2, n_estimators=50, subsample=0.8; total time=   4.6s\n",
      "[CV] END max_depth=5, max_features=log2, n_estimators=50, subsample=0.9; total time=   5.1s\n",
      "[CV] END max_depth=5, max_features=log2, n_estimators=50, subsample=0.9; total time=   4.9s\n",
      "[CV] END max_depth=5, max_features=log2, n_estimators=200, subsample=0.7; total time=  17.8s\n",
      "[CV] END max_depth=5, max_features=log2, n_estimators=200, subsample=0.7; total time=  17.3s\n",
      "[CV] END max_depth=5, max_features=log2, n_estimators=200, subsample=0.8; total time=  18.9s\n",
      "[CV] END max_depth=5, max_features=log2, n_estimators=200, subsample=0.8; total time=  18.5s\n",
      "[CV] END max_depth=5, max_features=log2, n_estimators=200, subsample=0.9; total time=  20.4s\n",
      "[CV] END max_depth=5, max_features=log2, n_estimators=200, subsample=0.9; total time=  19.6s\n",
      "[CV] END max_depth=5, max_features=log2, n_estimators=500, subsample=0.7; total time=  45.2s\n",
      "[CV] END max_depth=5, max_features=log2, n_estimators=500, subsample=0.7; total time=  43.3s\n",
      "[CV] END max_depth=5, max_features=log2, n_estimators=500, subsample=0.8; total time=  48.3s\n",
      "[CV] END max_depth=5, max_features=log2, n_estimators=500, subsample=0.8; total time=  46.5s\n",
      "[CV] END max_depth=5, max_features=log2, n_estimators=500, subsample=0.9; total time=  51.6s\n",
      "[CV] END max_depth=5, max_features=log2, n_estimators=500, subsample=0.9; total time=  49.4s\n",
      "[CV] END max_depth=7, max_features=sqrt, n_estimators=50, subsample=0.7; total time=   6.6s\n",
      "[CV] END max_depth=7, max_features=sqrt, n_estimators=50, subsample=0.7; total time=   6.4s\n",
      "[CV] END max_depth=7, max_features=sqrt, n_estimators=50, subsample=0.8; total time=   7.1s\n",
      "[CV] END max_depth=7, max_features=sqrt, n_estimators=50, subsample=0.8; total time=   6.8s\n",
      "[CV] END max_depth=7, max_features=sqrt, n_estimators=50, subsample=0.9; total time=   7.5s\n",
      "[CV] END max_depth=7, max_features=sqrt, n_estimators=50, subsample=0.9; total time=   7.3s\n",
      "[CV] END max_depth=7, max_features=sqrt, n_estimators=200, subsample=0.7; total time=  26.2s\n",
      "[CV] END max_depth=7, max_features=sqrt, n_estimators=200, subsample=0.7; total time=  25.2s\n",
      "[CV] END max_depth=7, max_features=sqrt, n_estimators=200, subsample=0.8; total time=  27.9s\n",
      "[CV] END max_depth=7, max_features=sqrt, n_estimators=200, subsample=0.8; total time=  27.0s\n",
      "[CV] END max_depth=7, max_features=sqrt, n_estimators=200, subsample=0.9; total time=  30.0s\n",
      "[CV] END max_depth=7, max_features=sqrt, n_estimators=200, subsample=0.9; total time=  28.7s\n",
      "[CV] END max_depth=7, max_features=sqrt, n_estimators=500, subsample=0.7; total time= 1.1min\n",
      "[CV] END max_depth=7, max_features=sqrt, n_estimators=500, subsample=0.7; total time= 1.1min\n",
      "[CV] END max_depth=7, max_features=sqrt, n_estimators=500, subsample=0.8; total time= 1.2min\n",
      "[CV] END max_depth=7, max_features=sqrt, n_estimators=500, subsample=0.8; total time= 1.1min\n",
      "[CV] END max_depth=7, max_features=sqrt, n_estimators=500, subsample=0.9; total time= 1.2min\n",
      "[CV] END max_depth=7, max_features=sqrt, n_estimators=500, subsample=0.9; total time= 1.2min\n",
      "[CV] END max_depth=7, max_features=log2, n_estimators=50, subsample=0.7; total time=   6.5s\n",
      "[CV] END max_depth=7, max_features=log2, n_estimators=50, subsample=0.7; total time=   6.4s\n",
      "[CV] END max_depth=7, max_features=log2, n_estimators=50, subsample=0.8; total time=   7.0s\n",
      "[CV] END max_depth=7, max_features=log2, n_estimators=50, subsample=0.8; total time=   6.9s\n",
      "[CV] END max_depth=7, max_features=log2, n_estimators=50, subsample=0.9; total time=   7.6s\n",
      "[CV] END max_depth=7, max_features=log2, n_estimators=50, subsample=0.9; total time=   7.1s\n",
      "[CV] END max_depth=7, max_features=log2, n_estimators=200, subsample=0.7; total time=  26.1s\n",
      "[CV] END max_depth=7, max_features=log2, n_estimators=200, subsample=0.7; total time=  24.9s\n",
      "[CV] END max_depth=7, max_features=log2, n_estimators=200, subsample=0.8; total time=  27.7s\n",
      "[CV] END max_depth=7, max_features=log2, n_estimators=200, subsample=0.8; total time=  26.9s\n",
      "[CV] END max_depth=7, max_features=log2, n_estimators=200, subsample=0.9; total time=  29.8s\n",
      "[CV] END max_depth=7, max_features=log2, n_estimators=200, subsample=0.9; total time=  28.6s\n",
      "[CV] END max_depth=7, max_features=log2, n_estimators=500, subsample=0.7; total time= 1.1min\n",
      "[CV] END max_depth=7, max_features=log2, n_estimators=500, subsample=0.7; total time= 1.0min\n",
      "[CV] END max_depth=7, max_features=log2, n_estimators=500, subsample=0.8; total time= 1.2min\n",
      "[CV] END max_depth=7, max_features=log2, n_estimators=500, subsample=0.8; total time= 1.1min\n",
      "[CV] END max_depth=7, max_features=log2, n_estimators=500, subsample=0.9; total time= 1.2min\n",
      "[CV] END max_depth=7, max_features=log2, n_estimators=500, subsample=0.9; total time= 1.2min\n"
     ]
    },
    {
     "data": {
      "text/html": [
       "<style>#sk-container-id-3 {color: black;background-color: white;}#sk-container-id-3 pre{padding: 0;}#sk-container-id-3 div.sk-toggleable {background-color: white;}#sk-container-id-3 label.sk-toggleable__label {cursor: pointer;display: block;width: 100%;margin-bottom: 0;padding: 0.3em;box-sizing: border-box;text-align: center;}#sk-container-id-3 label.sk-toggleable__label-arrow:before {content: \"▸\";float: left;margin-right: 0.25em;color: #696969;}#sk-container-id-3 label.sk-toggleable__label-arrow:hover:before {color: black;}#sk-container-id-3 div.sk-estimator:hover label.sk-toggleable__label-arrow:before {color: black;}#sk-container-id-3 div.sk-toggleable__content {max-height: 0;max-width: 0;overflow: hidden;text-align: left;background-color: #f0f8ff;}#sk-container-id-3 div.sk-toggleable__content pre {margin: 0.2em;color: black;border-radius: 0.25em;background-color: #f0f8ff;}#sk-container-id-3 input.sk-toggleable__control:checked~div.sk-toggleable__content {max-height: 200px;max-width: 100%;overflow: auto;}#sk-container-id-3 input.sk-toggleable__control:checked~label.sk-toggleable__label-arrow:before {content: \"▾\";}#sk-container-id-3 div.sk-estimator input.sk-toggleable__control:checked~label.sk-toggleable__label {background-color: #d4ebff;}#sk-container-id-3 div.sk-label input.sk-toggleable__control:checked~label.sk-toggleable__label {background-color: #d4ebff;}#sk-container-id-3 input.sk-hidden--visually {border: 0;clip: rect(1px 1px 1px 1px);clip: rect(1px, 1px, 1px, 1px);height: 1px;margin: -1px;overflow: hidden;padding: 0;position: absolute;width: 1px;}#sk-container-id-3 div.sk-estimator {font-family: monospace;background-color: #f0f8ff;border: 1px dotted black;border-radius: 0.25em;box-sizing: border-box;margin-bottom: 0.5em;}#sk-container-id-3 div.sk-estimator:hover {background-color: #d4ebff;}#sk-container-id-3 div.sk-parallel-item::after {content: \"\";width: 100%;border-bottom: 1px solid gray;flex-grow: 1;}#sk-container-id-3 div.sk-label:hover label.sk-toggleable__label {background-color: #d4ebff;}#sk-container-id-3 div.sk-serial::before {content: \"\";position: absolute;border-left: 1px solid gray;box-sizing: border-box;top: 0;bottom: 0;left: 50%;z-index: 0;}#sk-container-id-3 div.sk-serial {display: flex;flex-direction: column;align-items: center;background-color: white;padding-right: 0.2em;padding-left: 0.2em;position: relative;}#sk-container-id-3 div.sk-item {position: relative;z-index: 1;}#sk-container-id-3 div.sk-parallel {display: flex;align-items: stretch;justify-content: center;background-color: white;position: relative;}#sk-container-id-3 div.sk-item::before, #sk-container-id-3 div.sk-parallel-item::before {content: \"\";position: absolute;border-left: 1px solid gray;box-sizing: border-box;top: 0;bottom: 0;left: 50%;z-index: -1;}#sk-container-id-3 div.sk-parallel-item {display: flex;flex-direction: column;z-index: 1;position: relative;background-color: white;}#sk-container-id-3 div.sk-parallel-item:first-child::after {align-self: flex-end;width: 50%;}#sk-container-id-3 div.sk-parallel-item:last-child::after {align-self: flex-start;width: 50%;}#sk-container-id-3 div.sk-parallel-item:only-child::after {width: 0;}#sk-container-id-3 div.sk-dashed-wrapped {border: 1px dashed gray;margin: 0 0.4em 0.5em 0.4em;box-sizing: border-box;padding-bottom: 0.4em;background-color: white;}#sk-container-id-3 div.sk-label label {font-family: monospace;font-weight: bold;display: inline-block;line-height: 1.2em;}#sk-container-id-3 div.sk-label-container {text-align: center;}#sk-container-id-3 div.sk-container {/* jupyter's `normalize.less` sets `[hidden] { display: none; }` but bootstrap.min.css set `[hidden] { display: none !important; }` so we also need the `!important` here to be able to override the default hidden behavior on the sphinx rendered scikit-learn.org. See: https://github.com/scikit-learn/scikit-learn/issues/21755 */display: inline-block !important;position: relative;}#sk-container-id-3 div.sk-text-repr-fallback {display: none;}</style><div id=\"sk-container-id-3\" class=\"sk-top-container\"><div class=\"sk-text-repr-fallback\"><pre>GridSearchCV(cv=2, estimator=GradientBoostingClassifier(),\n",
       "             param_grid={&#x27;max_depth&#x27;: [3, 5, 7],\n",
       "                         &#x27;max_features&#x27;: [&#x27;sqrt&#x27;, &#x27;log2&#x27;],\n",
       "                         &#x27;n_estimators&#x27;: [50, 200, 500],\n",
       "                         &#x27;subsample&#x27;: [0.7, 0.8, 0.9]},\n",
       "             verbose=2)</pre><b>In a Jupyter environment, please rerun this cell to show the HTML representation or trust the notebook. <br />On GitHub, the HTML representation is unable to render, please try loading this page with nbviewer.org.</b></div><div class=\"sk-container\" hidden><div class=\"sk-item sk-dashed-wrapped\"><div class=\"sk-label-container\"><div class=\"sk-label sk-toggleable\"><input class=\"sk-toggleable__control sk-hidden--visually\" id=\"sk-estimator-id-3\" type=\"checkbox\" ><label for=\"sk-estimator-id-3\" class=\"sk-toggleable__label sk-toggleable__label-arrow\">GridSearchCV</label><div class=\"sk-toggleable__content\"><pre>GridSearchCV(cv=2, estimator=GradientBoostingClassifier(),\n",
       "             param_grid={&#x27;max_depth&#x27;: [3, 5, 7],\n",
       "                         &#x27;max_features&#x27;: [&#x27;sqrt&#x27;, &#x27;log2&#x27;],\n",
       "                         &#x27;n_estimators&#x27;: [50, 200, 500],\n",
       "                         &#x27;subsample&#x27;: [0.7, 0.8, 0.9]},\n",
       "             verbose=2)</pre></div></div></div><div class=\"sk-parallel\"><div class=\"sk-parallel-item\"><div class=\"sk-item\"><div class=\"sk-label-container\"><div class=\"sk-label sk-toggleable\"><input class=\"sk-toggleable__control sk-hidden--visually\" id=\"sk-estimator-id-4\" type=\"checkbox\" ><label for=\"sk-estimator-id-4\" class=\"sk-toggleable__label sk-toggleable__label-arrow\">estimator: GradientBoostingClassifier</label><div class=\"sk-toggleable__content\"><pre>GradientBoostingClassifier()</pre></div></div></div><div class=\"sk-serial\"><div class=\"sk-item\"><div class=\"sk-estimator sk-toggleable\"><input class=\"sk-toggleable__control sk-hidden--visually\" id=\"sk-estimator-id-5\" type=\"checkbox\" ><label for=\"sk-estimator-id-5\" class=\"sk-toggleable__label sk-toggleable__label-arrow\">GradientBoostingClassifier</label><div class=\"sk-toggleable__content\"><pre>GradientBoostingClassifier()</pre></div></div></div></div></div></div></div></div></div></div>"
      ],
      "text/plain": [
       "GridSearchCV(cv=2, estimator=GradientBoostingClassifier(),\n",
       "             param_grid={'max_depth': [3, 5, 7],\n",
       "                         'max_features': ['sqrt', 'log2'],\n",
       "                         'n_estimators': [50, 200, 500],\n",
       "                         'subsample': [0.7, 0.8, 0.9]},\n",
       "             verbose=2)"
      ]
     },
     "execution_count": 52,
     "metadata": {},
     "output_type": "execute_result"
    }
   ],
   "source": [
    "gscv.fit(X_train_ovr,Y_train_ovr)"
   ]
  },
  {
   "cell_type": "code",
   "execution_count": 53,
   "id": "bd62c072",
   "metadata": {},
   "outputs": [
    {
     "data": {
      "text/plain": [
       "{'max_depth': 7, 'max_features': 'sqrt', 'n_estimators': 500, 'subsample': 0.8}"
      ]
     },
     "execution_count": 53,
     "metadata": {},
     "output_type": "execute_result"
    }
   ],
   "source": [
    "gscv.best_params_ "
   ]
  },
  {
   "cell_type": "code",
   "execution_count": 54,
   "id": "661c5e40",
   "metadata": {},
   "outputs": [
    {
     "data": {
      "text/plain": [
       "array([0.74754514, 0.74778404, 0.7471003 , 0.78252274, 0.78211085,\n",
       "       0.78286049, 0.80574502, 0.80605806, 0.806437  , 0.74758633,\n",
       "       0.75014828, 0.74788289, 0.7832559 , 0.78337946, 0.7834536 ,\n",
       "       0.80731844, 0.80704659, 0.80672532, 0.7724397 , 0.77462271,\n",
       "       0.77552887, 0.80965797, 0.80855411, 0.80846349, 0.83774054,\n",
       "       0.83944576, 0.83966818, 0.77333762, 0.77524054, 0.77303282,\n",
       "       0.80847173, 0.80820812, 0.81007809, 0.83708976, 0.83897621,\n",
       "       0.83855608, 0.79099941, 0.79218565, 0.79266344, 0.83138098,\n",
       "       0.83418182, 0.83425596, 0.85751944, 0.85992487, 0.85967774,\n",
       "       0.7906699 , 0.79054633, 0.79046395, 0.83048306, 0.83219652,\n",
       "       0.83519507, 0.8563991 , 0.85861507, 0.85918347])"
      ]
     },
     "execution_count": 54,
     "metadata": {},
     "output_type": "execute_result"
    }
   ],
   "source": [
    "gscv.cv_results_['mean_test_score']"
   ]
  },
  {
   "cell_type": "code",
   "execution_count": 55,
   "id": "976f2c73",
   "metadata": {},
   "outputs": [
    {
     "data": {
      "text/plain": [
       "0.8599248714907077"
      ]
     },
     "execution_count": 55,
     "metadata": {},
     "output_type": "execute_result"
    }
   ],
   "source": [
    "gscv.cv_results_['mean_test_score'].max()"
   ]
  },
  {
   "cell_type": "markdown",
   "id": "64a26d79",
   "metadata": {},
   "source": [
    "# ARTIFICIAL NEURAL NETWORK (ANN)"
   ]
  },
  {
   "cell_type": "code",
   "execution_count": 83,
   "id": "b0314585",
   "metadata": {},
   "outputs": [],
   "source": [
    "from sklearn.preprocessing import LabelEncoder\n",
    "from tensorflow.keras import Sequential\n",
    "from tensorflow.keras.layers import Dense"
   ]
  },
  {
   "cell_type": "code",
   "execution_count": 84,
   "id": "c09479b2",
   "metadata": {},
   "outputs": [],
   "source": [
    "n_features = X_train_ovr.shape[1]"
   ]
  },
  {
   "cell_type": "code",
   "execution_count": 85,
   "id": "42d9fcdb",
   "metadata": {},
   "outputs": [],
   "source": [
    "model1 = Sequential()\n",
    "model1.add(Dense(5, activation='relu', input_shape=(n_features,)))\n",
    "# model1.add(Dense(100, activation='relu'))\n",
    "# model1.add(Dense(800, activation='relu'))\n",
    "# model1.add(Dense(8, activation='relu'))\n",
    "model1.add(Dense(1, activation='sigmoid'))"
   ]
  },
  {
   "cell_type": "code",
   "execution_count": 87,
   "id": "eb9d3017",
   "metadata": {},
   "outputs": [],
   "source": [
    "model1.compile(optimizer='adam', loss='binary_crossentropy', metrics=['accuracy'])\n",
    "history = model1.fit( X_train_ovr, Y_train_ovr, epochs=100, batch_size=32, validation_split=0.3, verbose=0,shuffle=False)"
   ]
  },
  {
   "cell_type": "code",
   "execution_count": 88,
   "id": "5644048e",
   "metadata": {},
   "outputs": [
    {
     "name": "stdout",
     "output_type": "stream",
     "text": [
      "Test Accuracy: 0.864\n"
     ]
    }
   ],
   "source": [
    "loss, acc = model1.evaluate(X_test, Y_test, verbose=0)\n",
    "print('Test Accuracy: %.3f' % acc)"
   ]
  },
  {
   "cell_type": "code",
   "execution_count": 91,
   "id": "a7bfc07f",
   "metadata": {},
   "outputs": [],
   "source": [
    "models = []\n",
    "    #models.append(('LR', LogisticRegression()))\n",
    "    #models.append(('LDA', LinearDiscriminantAnalysis()))\n",
    "models.append(('KNN', KNeighborsClassifier()))\n",
    "models.append(('DT', DecisionTreeClassifier()))\n",
    "models.append(('RF', RandomForestClassifier()))\n",
    "models.append(('GB', GradientBoostingClassifier()))\n",
    "#models.append(('ANN',Sequential()))\n",
    "    #models.append(('RF', ()))\n",
    "    \n",
    "    #models.append(('SVM', SVC()))"
   ]
  },
  {
   "cell_type": "code",
   "execution_count": 92,
   "id": "e21706de",
   "metadata": {},
   "outputs": [
    {
     "name": "stdout",
     "output_type": "stream",
     "text": [
      "KNN: 0.719636 (0.047089)\n",
      "DT: 0.794749 (0.068577)\n",
      "RF: 0.841490 (0.066331)\n",
      "GB: 0.762135 (0.062997)\n"
     ]
    }
   ],
   "source": [
    "seed=50\n",
    "results = []\n",
    "names = []\n",
    "scoring = 'accuracy'\n",
    "for name, model in models:\n",
    "    kfold = model_selection.KFold(n_splits=10)\n",
    "    cv_results = model_selection.cross_val_score(model, X_train_ovr, Y_train_ovr, cv=kfold, scoring=scoring)\n",
    "    results.append(cv_results)\n",
    "    names.append(name)\n",
    "    msg = \"%s: %f (%f)\" % (name, cv_results.mean(), cv_results.std())\n",
    "    print(msg)"
   ]
  },
  {
   "cell_type": "code",
   "execution_count": 93,
   "id": "aa7b952a",
   "metadata": {},
   "outputs": [
    {
     "data": {
      "image/png": "[encoded data removed]",
      "text/plain": [
       "<Figure size 720x720 with 1 Axes>"
      ]
     },
     "metadata": {
      "needs_background": "light"
     },
     "output_type": "display_data"
    }
   ],
   "source": [
    "fig = plt.figure(figsize=(10,10))\n",
    "fig.suptitle('compare sklearn classification algorithms')\n",
    "ax = fig.add_subplot(111)\n",
    "plt.boxplot(results)\n",
    "ax.set_xticklabels(names)\n",
    "plt.show()"
   ]
  },
  {
   "cell_type": "code",
   "execution_count": null,
   "id": "9870c769",
   "metadata": {},
   "outputs": [],
   "source": []
  }
 ],
 "metadata": {
  "kernelspec": {
   "display_name": "Python 3 (ipykernel)",
   "language": "python",
   "name": "python3"
  },
  "language_info": {
   "codemirror_mode": {
    "name": "ipython",
    "version": 3
   },
   "file_extension": ".py",
   "mimetype": "text/x-python",
   "name": "python",
   "nbconvert_exporter": "python",
   "pygments_lexer": "ipython3",
   "version": "3.9.7"
  }
 },
 "nbformat": 4,
 "nbformat_minor": 5
}
